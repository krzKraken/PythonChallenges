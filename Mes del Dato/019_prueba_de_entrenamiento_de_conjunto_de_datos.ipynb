{
 "cells": [
  {
   "attachments": {},
   "cell_type": "markdown",
   "metadata": {},
   "source": [
    "# Training And Test Sets\n",
    "\n",
    "We have seen previously how to fit a model to a dataset. In this exercise, we'll be looking at how to check and confirm the validity and performance of our models by using training and testing sets.\n",
    "As usual, we begin by loading in and having a look at our data:"
   ]
  },
  {
   "cell_type": "code",
   "execution_count": 1,
   "metadata": {},
   "outputs": [
    {
     "name": "stdout",
     "output_type": "stream",
     "text": [
      "(50, 5)\n",
      "   month_old_when_trained  mean_rescues_per_year  age_last_year  \\\n",
      "0                      68                   21.1              9   \n",
      "1                      53                   14.9              5   \n",
      "2                      41                   20.5              6   \n",
      "3                       3                   19.4              1   \n",
      "4                       4                   24.9              4   \n",
      "\n",
      "   weight_last_year  rescues_last_year  \n",
      "0              14.5                 35  \n",
      "1              14.0                 30  \n",
      "2              17.7                 34  \n",
      "3              13.7                 29  \n",
      "4              18.4                 30  \n"
     ]
    }
   ],
   "source": [
    "import pandas\n",
    "# !pip install statsmodels\n",
    "# !wget https://raw.githubusercontent.com/MicrosoftDocs/mslearn-introduction-to-machine-learning/main/graphing.py\n",
    "# !wget https://raw.githubusercontent.com/MicrosoftDocs/mslearn-introduction-to-machine-learning/main/Data/dog-training.csv\n",
    "# !wget https://raw.githubusercontent.com/MicrosoftDocs/mslearn-introduction-to-machine-learning/main/Data/dog-training-switzerland.csv\n",
    "\n",
    "data = pandas.read_csv(\"dog-training.csv\", delimiter=\"\\t\")\n",
    "\n",
    "print(data.shape)\n",
    "print(data.head())"
   ]
  },
  {
   "attachments": {},
   "cell_type": "markdown",
   "metadata": {},
   "source": [
    "We are interested in the relationship between a dog's weight and the amount of rescues it performed in the previous year. Let's begin by plotting `rescues_last_year` as a function of `weight_last_year`:"
   ]
  },
  {
   "cell_type": "code",
   "execution_count": 2,
   "metadata": {},
   "outputs": [
    {
     "data": {
      "application/vnd.plotly.v1+json": {
       "config": {
        "plotlyServerURL": "https://plot.ly"
       },
       "data": [
        {
         "hovertemplate": "weight last year=%{x}<br>rescues last year=%{y}<extra></extra>",
         "legendgroup": "",
         "marker": {
          "color": "#636efa",
          "size": 19,
          "symbol": "circle"
         },
         "mode": "markers",
         "name": "",
         "orientation": "v",
         "showlegend": false,
         "type": "scatter",
         "x": [
          14.5,
          14,
          17.7,
          13.7,
          18.4,
          12.4,
          13.1,
          17.1,
          14.3,
          20.2,
          14.5,
          17.8,
          18.6,
          19.5,
          18.3,
          19.6,
          22.7,
          19.6,
          17.8,
          19.1,
          23.1,
          21.1,
          28.5,
          20.6,
          11.4,
          22.2,
          14.6,
          16.5,
          16.1,
          17.2,
          21.6,
          22.5,
          21.2,
          19.4,
          16.2,
          21.4,
          18.6,
          12.6,
          14.8,
          9.3,
          7.2,
          19.4,
          19.5,
          20,
          15.4,
          16.9,
          21,
          17.1,
          23.5,
          23
         ],
         "xaxis": "x",
         "y": [
          35,
          30,
          34,
          29,
          30,
          25,
          26,
          37,
          32,
          30,
          35,
          32,
          33,
          36,
          32,
          36,
          38,
          35,
          33,
          34,
          37,
          35,
          34,
          40,
          20,
          32,
          31,
          38,
          31,
          36,
          44,
          28,
          39,
          30,
          44,
          42,
          39,
          30,
          26,
          29,
          27,
          37,
          30,
          26,
          25,
          29,
          29,
          30,
          29,
          37
         ],
         "yaxis": "y"
        }
       ],
       "layout": {
        "legend": {
         "tracegroupgap": 0
        },
        "shapes": [
         {
          "line": {
           "color": "rgb(228,26,28)"
          },
          "path": "M7.2 26.53685994167568 L 7.307035175879397 26.59873479990583 L 7.414070351758794 26.660609658135982 L 7.521105527638191 26.72248451636613 L 7.628140703517588 26.78435937459628 L 7.735175879396985 26.846234232826433 L 7.842211055276382 26.90810909105658 L 7.949246231155779 26.969983949286732 L 8.056281407035176 27.031858807516883 L 8.163316582914574 27.09373366574703 L 8.27035175879397 27.155608523977183 L 8.377386934673368 27.217483382207334 L 8.484422110552764 27.27935824043748 L 8.591457286432162 27.341233098667633 L 8.698492462311558 27.403107956897784 L 8.805527638190956 27.464982815127936 L 8.912562814070352 27.526857673358084 L 9.019597989949748 27.588732531588235 L 9.126633165829146 27.650607389818386 L 9.233668341708544 27.712482248048538 L 9.34070351758794 27.774357106278686 L 9.447738693467336 27.836231964508837 L 9.554773869346734 27.89810682273899 L 9.66180904522613 27.959981680969136 L 9.768844221105528 28.021856539199288 L 9.875879396984924 28.08373139742944 L 9.982914572864322 28.145606255659587 L 10.089949748743718 28.207481113889738 L 10.196984924623116 28.26935597211989 L 10.304020100502512 28.331230830350037 L 10.411055276381909 28.39310568858019 L 10.518090452261307 28.45498054681034 L 10.625125628140704 28.51685540504049 L 10.7321608040201 28.57873026327064 L 10.839195979899497 28.64060512150079 L 10.946231155778895 28.70247997973094 L 11.053266331658293 28.764354837961093 L 11.160301507537689 28.82622969619124 L 11.267336683417085 28.88810455442139 L 11.374371859296483 28.949979412651544 L 11.48140703517588 29.01185427088169 L 11.588442211055277 29.073729129111843 L 11.695477386934673 29.135603987341995 L 11.80251256281407 29.197478845572142 L 11.909547738693467 29.259353703802294 L 12.016582914572865 29.321228562032445 L 12.123618090452261 29.383103420262593 L 12.230653266331657 29.444978278492744 L 12.337688442211055 29.506853136722896 L 12.444723618090453 29.568727994953043 L 12.55175879396985 29.630602853183195 L 12.658793969849246 29.692477711413346 L 12.765829145728643 29.754352569643494 L 12.872864321608041 29.81622742787365 L 12.979899497487438 29.878102286103797 L 13.086934673366834 29.939977144333945 L 13.19396984924623 30.001852002564096 L 13.301005025125628 30.063726860794247 L 13.408040201005026 30.1256017190244 L 13.515075376884422 30.18747657725455 L 13.622110552763818 30.249351435484698 L 13.729145728643216 30.31122629371485 L 13.836180904522614 30.373101151945 L 13.94321608040201 30.43497601017515 L 14.050251256281406 30.4968508684053 L 14.157286432160804 30.55872572663545 L 14.264321608040202 30.6206005848656 L 14.371356783919598 30.68247544309575 L 14.478391959798994 30.744350301325902 L 14.585427135678392 30.80622515955605 L 14.69246231155779 30.868100017786205 L 14.799497487437186 30.929974876016352 L 14.906532663316582 30.9918497342465 L 15.013567839195979 31.05372459247665 L 15.120603015075377 31.115599450706803 L 15.227638190954774 31.177474308936954 L 15.33467336683417 31.239349167167106 L 15.441708542713567 31.301224025397254 L 15.548743718592966 31.363098883627405 L 15.655778894472363 31.424973741857556 L 15.762814070351759 31.486848600087704 L 15.869849246231155 31.548723458317856 L 15.976884422110551 31.610598316548007 L 16.08391959798995 31.672473174778155 L 16.190954773869347 31.734348033008306 L 16.297989949748743 31.796222891238457 L 16.40502512562814 31.858097749468605 L 16.51206030150754 31.91997260769876 L 16.619095477386935 31.981847465928908 L 16.72613065326633 32.043722324159056 L 16.833165829145727 32.105597182389204 L 16.940201005025127 32.16747204061936 L 17.047236180904523 32.229346898849506 L 17.15427135678392 32.29122175707966 L 17.261306532663315 32.35309661530981 L 17.368341708542715 32.414971473539964 L 17.47537688442211 32.47684633177011 L 17.582412060301507 32.53872119000026 L 17.689447236180904 32.60059604823041 L 17.7964824120603 32.66247090646056 L 17.9035175879397 32.72434576469071 L 18.010552763819096 32.786220622920865 L 18.117587939698492 32.84809548115101 L 18.224623115577888 32.90997033938116 L 18.331658291457288 32.971845197611316 L 18.438693467336684 33.033720055841464 L 18.54572864321608 33.09559491407161 L 18.652763819095476 33.157469772301766 L 18.759798994974876 33.219344630531914 L 18.866834170854272 33.28121948876206 L 18.973869346733668 33.34309434699222 L 19.080904522613064 33.404969205222365 L 19.18793969849246 33.46684406345251 L 19.29497487437186 33.52871892168267 L 19.402010050251256 33.590593779912815 L 19.509045226130652 33.65246863814296 L 19.61608040201005 33.71434349637312 L 19.72311557788945 33.776218354603266 L 19.830150753768844 33.838093212833414 L 19.93718592964824 33.89996807106357 L 20.044221105527637 33.96184292929372 L 20.151256281407036 34.023717787523864 L 20.258291457286433 34.08559264575402 L 20.36532663316583 34.14746750398417 L 20.472361809045225 34.209342362214315 L 20.579396984924625 34.27121722044447 L 20.68643216080402 34.33309207867462 L 20.793467336683417 34.394966936904765 L 20.900502512562813 34.45684179513492 L 21.00753768844221 34.51871665336507 L 21.11457286432161 34.58059151159522 L 21.221608040201005 34.64246636982537 L 21.3286432160804 34.70434122805552 L 21.435678391959797 34.76621608628567 L 21.542713567839197 34.82809094451582 L 21.649748743718593 34.88996580274598 L 21.75678391959799 34.951840660976124 L 21.863819095477385 35.01371551920627 L 21.970854271356785 35.07559037743643 L 22.07788944723618 35.137465235666575 L 22.184924623115577 35.19934009389672 L 22.291959798994974 35.26121495212688 L 22.398994974874373 35.323089810357025 L 22.50603015075377 35.38496466858717 L 22.613065326633166 35.44683952681733 L 22.72010050251256 35.508714385047476 L 22.827135678391958 35.570589243277624 L 22.934170854271358 35.63246410150778 L 23.041206030150754 35.69433895973793 L 23.14824120603015 35.756213817968074 L 23.255276381909546 35.81808867619823 L 23.362311557788942 35.87996353442838 L 23.469346733668342 35.941838392658525 L 23.576381909547738 36.00371325088868 L 23.683417085427134 36.06558810911883 L 23.79045226130653 36.127462967348976 L 23.89748743718593 36.18933782557913 L 24.004522613065326 36.25121268380928 L 24.111557788944722 36.313087542039426 L 24.21859296482412 36.37496240026958 L 24.325628140703518 36.43683725849973 L 24.432663316582914 36.49871211672988 L 24.53969849246231 36.56058697496003 L 24.646733668341707 36.62246183319018 L 24.753768844221103 36.68433669142033 L 24.860804020100502 36.74621154965048 L 24.9678391959799 36.80808640788063 L 25.074874371859295 36.86996126611078 L 25.18190954773869 36.93183612434093 L 25.28894472361809 36.99371098257109 L 25.395979899497487 37.055585840801236 L 25.503015075376883 37.11746069903138 L 25.61005025125628 37.17933555726153 L 25.71708542713568 37.241210415491686 L 25.824120603015075 37.303085273721834 L 25.93115577889447 37.36496013195199 L 26.038190954773867 37.42683499018214 L 26.145226130653263 37.488709848412284 L 26.252261306532663 37.55058470664244 L 26.35929648241206 37.61245956487259 L 26.466331658291455 37.674334423102735 L 26.57336683417085 37.73620928133289 L 26.68040201005025 37.79808413956304 L 26.787437185929647 37.859958997793186 L 26.894472361809044 37.92183385602334 L 27.00150753768844 37.98370871425349 L 27.10854271356784 38.045583572483636 L 27.215577889447236 38.10745843071379 L 27.32261306532663 38.16933328894394 L 27.429648241206028 38.23120814717409 L 27.536683417085428 38.29308300540424 L 27.643718592964824 38.35495786363439 L 27.75075376884422 38.41683272186454 L 27.857788944723616 38.47870758009469 L 27.964824120603012 38.54058243832484 L 28.071859296482412 38.60245729655499 L 28.178894472361808 38.66433215478514 L 28.285929648241204 38.72620701301529 L 28.3929648241206 38.78808187124544 L 28.5 38.84995672947559",
          "type": "path"
         }
        ],
        "template": {
         "data": {
          "bar": [
           {
            "error_x": {
             "color": "#2a3f5f"
            },
            "error_y": {
             "color": "#2a3f5f"
            },
            "marker": {
             "line": {
              "color": "white",
              "width": 0.5
             },
             "pattern": {
              "fillmode": "overlay",
              "size": 10,
              "solidity": 0.2
             }
            },
            "type": "bar"
           }
          ],
          "barpolar": [
           {
            "marker": {
             "line": {
              "color": "white",
              "width": 0.5
             },
             "pattern": {
              "fillmode": "overlay",
              "size": 10,
              "solidity": 0.2
             }
            },
            "type": "barpolar"
           }
          ],
          "box": [
           {
            "boxpoints": "outliers",
            "notched": false,
            "type": "box"
           }
          ],
          "carpet": [
           {
            "aaxis": {
             "endlinecolor": "#2a3f5f",
             "gridcolor": "#C8D4E3",
             "linecolor": "#C8D4E3",
             "minorgridcolor": "#C8D4E3",
             "startlinecolor": "#2a3f5f"
            },
            "baxis": {
             "endlinecolor": "#2a3f5f",
             "gridcolor": "#C8D4E3",
             "linecolor": "#C8D4E3",
             "minorgridcolor": "#C8D4E3",
             "startlinecolor": "#2a3f5f"
            },
            "type": "carpet"
           }
          ],
          "choropleth": [
           {
            "colorbar": {
             "outlinewidth": 0,
             "ticks": ""
            },
            "type": "choropleth"
           }
          ],
          "contour": [
           {
            "colorbar": {
             "outlinewidth": 0,
             "ticks": ""
            },
            "colorscale": [
             [
              0,
              "#0d0887"
             ],
             [
              0.1111111111111111,
              "#46039f"
             ],
             [
              0.2222222222222222,
              "#7201a8"
             ],
             [
              0.3333333333333333,
              "#9c179e"
             ],
             [
              0.4444444444444444,
              "#bd3786"
             ],
             [
              0.5555555555555556,
              "#d8576b"
             ],
             [
              0.6666666666666666,
              "#ed7953"
             ],
             [
              0.7777777777777778,
              "#fb9f3a"
             ],
             [
              0.8888888888888888,
              "#fdca26"
             ],
             [
              1,
              "#f0f921"
             ]
            ],
            "type": "contour"
           }
          ],
          "contourcarpet": [
           {
            "colorbar": {
             "outlinewidth": 0,
             "ticks": ""
            },
            "type": "contourcarpet"
           }
          ],
          "heatmap": [
           {
            "colorbar": {
             "outlinewidth": 0,
             "ticks": ""
            },
            "colorscale": [
             [
              0,
              "#0d0887"
             ],
             [
              0.1111111111111111,
              "#46039f"
             ],
             [
              0.2222222222222222,
              "#7201a8"
             ],
             [
              0.3333333333333333,
              "#9c179e"
             ],
             [
              0.4444444444444444,
              "#bd3786"
             ],
             [
              0.5555555555555556,
              "#d8576b"
             ],
             [
              0.6666666666666666,
              "#ed7953"
             ],
             [
              0.7777777777777778,
              "#fb9f3a"
             ],
             [
              0.8888888888888888,
              "#fdca26"
             ],
             [
              1,
              "#f0f921"
             ]
            ],
            "type": "heatmap"
           }
          ],
          "heatmapgl": [
           {
            "colorbar": {
             "outlinewidth": 0,
             "ticks": ""
            },
            "colorscale": [
             [
              0,
              "#0d0887"
             ],
             [
              0.1111111111111111,
              "#46039f"
             ],
             [
              0.2222222222222222,
              "#7201a8"
             ],
             [
              0.3333333333333333,
              "#9c179e"
             ],
             [
              0.4444444444444444,
              "#bd3786"
             ],
             [
              0.5555555555555556,
              "#d8576b"
             ],
             [
              0.6666666666666666,
              "#ed7953"
             ],
             [
              0.7777777777777778,
              "#fb9f3a"
             ],
             [
              0.8888888888888888,
              "#fdca26"
             ],
             [
              1,
              "#f0f921"
             ]
            ],
            "type": "heatmapgl"
           }
          ],
          "histogram": [
           {
            "marker": {
             "line": {
              "width": 1
             },
             "pattern": {
              "fillmode": "overlay",
              "size": 10,
              "solidity": 0.2
             }
            },
            "type": "histogram"
           }
          ],
          "histogram2d": [
           {
            "colorbar": {
             "outlinewidth": 0,
             "ticks": ""
            },
            "colorscale": [
             [
              0,
              "#0d0887"
             ],
             [
              0.1111111111111111,
              "#46039f"
             ],
             [
              0.2222222222222222,
              "#7201a8"
             ],
             [
              0.3333333333333333,
              "#9c179e"
             ],
             [
              0.4444444444444444,
              "#bd3786"
             ],
             [
              0.5555555555555556,
              "#d8576b"
             ],
             [
              0.6666666666666666,
              "#ed7953"
             ],
             [
              0.7777777777777778,
              "#fb9f3a"
             ],
             [
              0.8888888888888888,
              "#fdca26"
             ],
             [
              1,
              "#f0f921"
             ]
            ],
            "type": "histogram2d"
           }
          ],
          "histogram2dcontour": [
           {
            "colorbar": {
             "outlinewidth": 0,
             "ticks": ""
            },
            "colorscale": [
             [
              0,
              "#0d0887"
             ],
             [
              0.1111111111111111,
              "#46039f"
             ],
             [
              0.2222222222222222,
              "#7201a8"
             ],
             [
              0.3333333333333333,
              "#9c179e"
             ],
             [
              0.4444444444444444,
              "#bd3786"
             ],
             [
              0.5555555555555556,
              "#d8576b"
             ],
             [
              0.6666666666666666,
              "#ed7953"
             ],
             [
              0.7777777777777778,
              "#fb9f3a"
             ],
             [
              0.8888888888888888,
              "#fdca26"
             ],
             [
              1,
              "#f0f921"
             ]
            ],
            "type": "histogram2dcontour"
           }
          ],
          "mesh3d": [
           {
            "colorbar": {
             "outlinewidth": 0,
             "ticks": ""
            },
            "type": "mesh3d"
           }
          ],
          "parcoords": [
           {
            "line": {
             "colorbar": {
              "outlinewidth": 0,
              "ticks": ""
             }
            },
            "type": "parcoords"
           }
          ],
          "pie": [
           {
            "automargin": true,
            "type": "pie"
           }
          ],
          "scatter": [
           {
            "fillpattern": {
             "fillmode": "overlay",
             "size": 10,
             "solidity": 0.2
            },
            "marker": {
             "opacity": 0.8
            },
            "type": "scatter"
           }
          ],
          "scatter3d": [
           {
            "line": {
             "colorbar": {
              "outlinewidth": 0,
              "ticks": ""
             }
            },
            "marker": {
             "colorbar": {
              "outlinewidth": 0,
              "ticks": ""
             },
             "opacity": 0.8
            },
            "type": "scatter3d"
           }
          ],
          "scattercarpet": [
           {
            "marker": {
             "colorbar": {
              "outlinewidth": 0,
              "ticks": ""
             }
            },
            "type": "scattercarpet"
           }
          ],
          "scattergeo": [
           {
            "marker": {
             "colorbar": {
              "outlinewidth": 0,
              "ticks": ""
             }
            },
            "type": "scattergeo"
           }
          ],
          "scattergl": [
           {
            "marker": {
             "colorbar": {
              "outlinewidth": 0,
              "ticks": ""
             }
            },
            "type": "scattergl"
           }
          ],
          "scattermapbox": [
           {
            "marker": {
             "colorbar": {
              "outlinewidth": 0,
              "ticks": ""
             }
            },
            "type": "scattermapbox"
           }
          ],
          "scatterpolar": [
           {
            "marker": {
             "colorbar": {
              "outlinewidth": 0,
              "ticks": ""
             }
            },
            "type": "scatterpolar"
           }
          ],
          "scatterpolargl": [
           {
            "marker": {
             "colorbar": {
              "outlinewidth": 0,
              "ticks": ""
             }
            },
            "type": "scatterpolargl"
           }
          ],
          "scatterternary": [
           {
            "marker": {
             "colorbar": {
              "outlinewidth": 0,
              "ticks": ""
             }
            },
            "type": "scatterternary"
           }
          ],
          "surface": [
           {
            "colorbar": {
             "outlinewidth": 0,
             "ticks": ""
            },
            "colorscale": [
             [
              0,
              "#0d0887"
             ],
             [
              0.1111111111111111,
              "#46039f"
             ],
             [
              0.2222222222222222,
              "#7201a8"
             ],
             [
              0.3333333333333333,
              "#9c179e"
             ],
             [
              0.4444444444444444,
              "#bd3786"
             ],
             [
              0.5555555555555556,
              "#d8576b"
             ],
             [
              0.6666666666666666,
              "#ed7953"
             ],
             [
              0.7777777777777778,
              "#fb9f3a"
             ],
             [
              0.8888888888888888,
              "#fdca26"
             ],
             [
              1,
              "#f0f921"
             ]
            ],
            "type": "surface"
           }
          ],
          "table": [
           {
            "cells": {
             "fill": {
              "color": "#EBF0F8"
             },
             "line": {
              "color": "white"
             }
            },
            "header": {
             "fill": {
              "color": "#C8D4E3"
             },
             "line": {
              "color": "white"
             }
            },
            "type": "table"
           }
          ]
         },
         "layout": {
          "annotationdefaults": {
           "arrowcolor": "#2a3f5f",
           "arrowhead": 0,
           "arrowwidth": 1
          },
          "autotypenumbers": "strict",
          "coloraxis": {
           "colorbar": {
            "outlinewidth": 0,
            "ticks": ""
           }
          },
          "colorscale": {
           "diverging": [
            [
             0,
             "#8e0152"
            ],
            [
             0.1,
             "#c51b7d"
            ],
            [
             0.2,
             "#de77ae"
            ],
            [
             0.3,
             "#f1b6da"
            ],
            [
             0.4,
             "#fde0ef"
            ],
            [
             0.5,
             "#f7f7f7"
            ],
            [
             0.6,
             "#e6f5d0"
            ],
            [
             0.7,
             "#b8e186"
            ],
            [
             0.8,
             "#7fbc41"
            ],
            [
             0.9,
             "#4d9221"
            ],
            [
             1,
             "#276419"
            ]
           ],
           "sequential": [
            [
             0,
             "#0d0887"
            ],
            [
             0.1111111111111111,
             "#46039f"
            ],
            [
             0.2222222222222222,
             "#7201a8"
            ],
            [
             0.3333333333333333,
             "#9c179e"
            ],
            [
             0.4444444444444444,
             "#bd3786"
            ],
            [
             0.5555555555555556,
             "#d8576b"
            ],
            [
             0.6666666666666666,
             "#ed7953"
            ],
            [
             0.7777777777777778,
             "#fb9f3a"
            ],
            [
             0.8888888888888888,
             "#fdca26"
            ],
            [
             1,
             "#f0f921"
            ]
           ],
           "sequentialminus": [
            [
             0,
             "#0d0887"
            ],
            [
             0.1111111111111111,
             "#46039f"
            ],
            [
             0.2222222222222222,
             "#7201a8"
            ],
            [
             0.3333333333333333,
             "#9c179e"
            ],
            [
             0.4444444444444444,
             "#bd3786"
            ],
            [
             0.5555555555555556,
             "#d8576b"
            ],
            [
             0.6666666666666666,
             "#ed7953"
            ],
            [
             0.7777777777777778,
             "#fb9f3a"
            ],
            [
             0.8888888888888888,
             "#fdca26"
            ],
            [
             1,
             "#f0f921"
            ]
           ]
          },
          "colorway": [
           "#636efa",
           "#EF553B",
           "#00cc96",
           "#ab63fa",
           "#FFA15A",
           "#19d3f3",
           "#FF6692",
           "#B6E880",
           "#FF97FF",
           "#FECB52"
          ],
          "font": {
           "color": "#2a3f5f"
          },
          "geo": {
           "bgcolor": "white",
           "lakecolor": "white",
           "landcolor": "white",
           "showlakes": true,
           "showland": true,
           "subunitcolor": "#C8D4E3"
          },
          "height": 400,
          "hoverlabel": {
           "align": "left"
          },
          "hovermode": "closest",
          "mapbox": {
           "style": "light"
          },
          "margin": {
           "b": 2,
           "l": 2,
           "r": 2,
           "t": 30
          },
          "paper_bgcolor": "white",
          "plot_bgcolor": "white",
          "polar": {
           "angularaxis": {
            "gridcolor": "#EBF0F8",
            "linecolor": "#EBF0F8",
            "ticks": ""
           },
           "bgcolor": "white",
           "radialaxis": {
            "gridcolor": "#EBF0F8",
            "linecolor": "#EBF0F8",
            "ticks": ""
           }
          },
          "scene": {
           "camera": {
            "eye": {
             "x": 1.5,
             "y": 1.5,
             "z": 0.1
            }
           },
           "xaxis": {
            "backgroundcolor": "white",
            "gridcolor": "#DFE8F3",
            "gridwidth": 2,
            "linecolor": "#EBF0F8",
            "showbackground": true,
            "ticks": "",
            "zerolinecolor": "#EBF0F8"
           },
           "yaxis": {
            "backgroundcolor": "white",
            "gridcolor": "#DFE8F3",
            "gridwidth": 2,
            "linecolor": "#EBF0F8",
            "showbackground": true,
            "ticks": "",
            "zerolinecolor": "#EBF0F8"
           },
           "zaxis": {
            "backgroundcolor": "white",
            "gridcolor": "#DFE8F3",
            "gridwidth": 2,
            "linecolor": "#EBF0F8",
            "showbackground": true,
            "ticks": "",
            "zerolinecolor": "#EBF0F8"
           }
          },
          "shapedefaults": {
           "line": {
            "color": "#2a3f5f"
           }
          },
          "ternary": {
           "aaxis": {
            "gridcolor": "#DFE8F3",
            "linecolor": "#A2B1C6",
            "ticks": ""
           },
           "baxis": {
            "gridcolor": "#DFE8F3",
            "linecolor": "#A2B1C6",
            "ticks": ""
           },
           "bgcolor": "white",
           "caxis": {
            "gridcolor": "#DFE8F3",
            "linecolor": "#A2B1C6",
            "ticks": ""
           }
          },
          "title": {
           "x": 0.5
          },
          "xaxis": {
           "automargin": true,
           "gridcolor": "#EBF0F8",
           "linecolor": "#EBF0F8",
           "linewidth": 2,
           "showline": true,
           "ticks": "",
           "title": {
            "standoff": 15
           },
           "zerolinecolor": "#EBF0F8",
           "zerolinewidth": 2
          },
          "yaxis": {
           "automargin": true,
           "gridcolor": "#EBF0F8",
           "linecolor": "#EBF0F8",
           "linewidth": 2,
           "showline": true,
           "ticks": "",
           "title": {
            "standoff": 15
           },
           "zerolinecolor": "#EBF0F8",
           "zerolinewidth": 2
          }
         }
        },
        "xaxis": {
         "anchor": "y",
         "domain": [
          0,
          1
         ],
         "title": {
          "text": "weight last year"
         }
        },
        "yaxis": {
         "anchor": "x",
         "domain": [
          0,
          1
         ],
         "title": {
          "text": "rescues last year"
         }
        }
       }
      }
     },
     "metadata": {},
     "output_type": "display_data"
    }
   ],
   "source": [
    "import graphing\n",
    "import statsmodels.formula.api as smf\n",
    "\n",
    "# First, we define our formula using a special syntax\n",
    "# This says that rescues_last_year is explained by weight_last_year\n",
    "formula = \"rescues_last_year ~ weight_last_year\"\n",
    "\n",
    "model = smf.ols(formula = formula, data = data).fit()\n",
    "\n",
    "graphing.scatter_2D(data, \"weight_last_year\", \"rescues_last_year\", trendline = lambda x: model.params[1] * x + model.params[0])\n"
   ]
  },
  {
   "attachments": {},
   "cell_type": "markdown",
   "metadata": {},
   "source": [
    "There seems to be a pretty clear relationship between a dog's weight and the number of rescues it's performed. \n",
    "That seems pretty reasonable, as we would expect heavier dogs to be bigger and stronger and thus better at saving lives!"
   ]
  },
  {
   "attachments": {},
   "cell_type": "markdown",
   "metadata": {},
   "source": [
    "# Train/test split\n",
    "\n",
    "This time, instead of fitting a model to the entirety of our dataset, we're going to separate our dataset into two smaller partitions: a _training set_ and a _test set_.  \n",
    "The _training set_ is the largest of the two, usually made up of between 70-80% of the overall dataset, with the rest of the dataset making up the _test set_.\n",
    "By splitting our data, we're able to gauge the performance of our model when confronted with previously unseen data. \n",
    "\n",
    "Notice that data on the _test set_ is never used in training. For that reason it's commonly referred to as *unseen data* or data that is *unknown by the model*."
   ]
  },
  {
   "cell_type": "code",
   "execution_count": 9,
   "metadata": {},
   "outputs": [
    {
     "name": "stdout",
     "output_type": "stream",
     "text": [
      "<class 'pandas.core.frame.DataFrame'>\n",
      "Train\n",
      "(35, 2)\n",
      "Test\n",
      "(15, 2)\n"
     ]
    }
   ],
   "source": [
    "from sklearn.model_selection import train_test_split\n",
    "\n",
    "\n",
    "# Obtain the label and feature from the original data\n",
    "dataset = data[['rescues_last_year','weight_last_year']]\n",
    "\n",
    "# Split the dataset in an 70/30 train/test ratio. We also obtain the respective corresponding indices from the original dataset.\n",
    "train1, test2 = train_test_split(dataset, train_size=0.7, random_state=21, shuffle=False)\n",
    "\n",
    "print(\"Train\")\n",
    "\n",
    "train = pandas.DataFrame(train1)\n",
    "test = pandas.DataFrame(test2)\n",
    "# train = pandas.DataFrame(train)\n",
    "# print(train.shape)\n",
    "\n",
    "print(\"Test\")\n",
    "\n",
    "# test = pandas.DataFrame(test)\n",
    "# print(test.shape)"
   ]
  },
  {
   "attachments": {},
   "cell_type": "markdown",
   "metadata": {},
   "source": [
    "We can see that these sets are different, and that the _training set_ and _test set_ contain 70% and 30% of the overall data respectively.\n",
    "\n",
    "Let's have a look at how the _training set_ and _test set_ are separated out:\n"
   ]
  },
  {
   "cell_type": "code",
   "execution_count": 11,
   "metadata": {},
   "outputs": [
    {
     "data": {
      "application/vnd.plotly.v1+json": {
       "config": {
        "plotlyServerURL": "https://plot.ly"
       },
       "data": [
        {
         "hovertemplate": "Dataset=train<br>weight last year=%{x}<br>rescues last year=%{y}<extra></extra>",
         "legendgroup": "train",
         "marker": {
          "color": "#636efa",
          "size": 19,
          "symbol": "circle"
         },
         "mode": "markers",
         "name": "train",
         "orientation": "v",
         "showlegend": true,
         "type": "scatter",
         "x": [
          14.5,
          14,
          17.7,
          13.7,
          18.4,
          12.4,
          13.1,
          17.1,
          14.3,
          20.2,
          14.5,
          17.8,
          18.6,
          19.5,
          18.3,
          19.6,
          22.7,
          19.6,
          17.8,
          19.1,
          23.1,
          21.1,
          28.5,
          20.6,
          11.4,
          22.2,
          14.6,
          16.5,
          16.1,
          17.2,
          21.6,
          22.5,
          21.2,
          19.4,
          16.2
         ],
         "xaxis": "x",
         "y": [
          35,
          30,
          34,
          29,
          30,
          25,
          26,
          37,
          32,
          30,
          35,
          32,
          33,
          36,
          32,
          36,
          38,
          35,
          33,
          34,
          37,
          35,
          34,
          40,
          20,
          32,
          31,
          38,
          31,
          36,
          44,
          28,
          39,
          30,
          44
         ],
         "yaxis": "y"
        },
        {
         "hovertemplate": "Dataset=test<br>weight last year=%{x}<br>rescues last year=%{y}<extra></extra>",
         "legendgroup": "test",
         "marker": {
          "color": "#EF553B",
          "size": 19,
          "symbol": "circle"
         },
         "mode": "markers",
         "name": "test",
         "orientation": "v",
         "showlegend": true,
         "type": "scatter",
         "x": [
          21.4,
          18.6,
          12.6,
          14.8,
          9.3,
          7.2,
          19.4,
          19.5,
          20,
          15.4,
          16.9,
          21,
          17.1,
          23.5,
          23
         ],
         "xaxis": "x",
         "y": [
          42,
          39,
          30,
          26,
          29,
          27,
          37,
          30,
          26,
          25,
          29,
          29,
          30,
          29,
          37
         ],
         "yaxis": "y"
        }
       ],
       "layout": {
        "legend": {
         "title": {
          "text": "Dataset"
         },
         "tracegroupgap": 0
        },
        "shapes": [
         {
          "line": {
           "color": "rgb(228,26,28)"
          },
          "path": "M7.2 26.53685994167568 L 7.307035175879397 26.59873479990583 L 7.414070351758794 26.660609658135982 L 7.521105527638191 26.72248451636613 L 7.628140703517588 26.78435937459628 L 7.735175879396985 26.846234232826433 L 7.842211055276382 26.90810909105658 L 7.949246231155779 26.969983949286732 L 8.056281407035176 27.031858807516883 L 8.163316582914574 27.09373366574703 L 8.27035175879397 27.155608523977183 L 8.377386934673368 27.217483382207334 L 8.484422110552764 27.27935824043748 L 8.591457286432162 27.341233098667633 L 8.698492462311558 27.403107956897784 L 8.805527638190956 27.464982815127936 L 8.912562814070352 27.526857673358084 L 9.019597989949748 27.588732531588235 L 9.126633165829146 27.650607389818386 L 9.233668341708544 27.712482248048538 L 9.34070351758794 27.774357106278686 L 9.447738693467336 27.836231964508837 L 9.554773869346734 27.89810682273899 L 9.66180904522613 27.959981680969136 L 9.768844221105528 28.021856539199288 L 9.875879396984924 28.08373139742944 L 9.982914572864322 28.145606255659587 L 10.089949748743718 28.207481113889738 L 10.196984924623116 28.26935597211989 L 10.304020100502512 28.331230830350037 L 10.411055276381909 28.39310568858019 L 10.518090452261307 28.45498054681034 L 10.625125628140704 28.51685540504049 L 10.7321608040201 28.57873026327064 L 10.839195979899497 28.64060512150079 L 10.946231155778895 28.70247997973094 L 11.053266331658293 28.764354837961093 L 11.160301507537689 28.82622969619124 L 11.267336683417085 28.88810455442139 L 11.374371859296483 28.949979412651544 L 11.48140703517588 29.01185427088169 L 11.588442211055277 29.073729129111843 L 11.695477386934673 29.135603987341995 L 11.80251256281407 29.197478845572142 L 11.909547738693467 29.259353703802294 L 12.016582914572865 29.321228562032445 L 12.123618090452261 29.383103420262593 L 12.230653266331657 29.444978278492744 L 12.337688442211055 29.506853136722896 L 12.444723618090453 29.568727994953043 L 12.55175879396985 29.630602853183195 L 12.658793969849246 29.692477711413346 L 12.765829145728643 29.754352569643494 L 12.872864321608041 29.81622742787365 L 12.979899497487438 29.878102286103797 L 13.086934673366834 29.939977144333945 L 13.19396984924623 30.001852002564096 L 13.301005025125628 30.063726860794247 L 13.408040201005026 30.1256017190244 L 13.515075376884422 30.18747657725455 L 13.622110552763818 30.249351435484698 L 13.729145728643216 30.31122629371485 L 13.836180904522614 30.373101151945 L 13.94321608040201 30.43497601017515 L 14.050251256281406 30.4968508684053 L 14.157286432160804 30.55872572663545 L 14.264321608040202 30.6206005848656 L 14.371356783919598 30.68247544309575 L 14.478391959798994 30.744350301325902 L 14.585427135678392 30.80622515955605 L 14.69246231155779 30.868100017786205 L 14.799497487437186 30.929974876016352 L 14.906532663316582 30.9918497342465 L 15.013567839195979 31.05372459247665 L 15.120603015075377 31.115599450706803 L 15.227638190954774 31.177474308936954 L 15.33467336683417 31.239349167167106 L 15.441708542713567 31.301224025397254 L 15.548743718592966 31.363098883627405 L 15.655778894472363 31.424973741857556 L 15.762814070351759 31.486848600087704 L 15.869849246231155 31.548723458317856 L 15.976884422110551 31.610598316548007 L 16.08391959798995 31.672473174778155 L 16.190954773869347 31.734348033008306 L 16.297989949748743 31.796222891238457 L 16.40502512562814 31.858097749468605 L 16.51206030150754 31.91997260769876 L 16.619095477386935 31.981847465928908 L 16.72613065326633 32.043722324159056 L 16.833165829145727 32.105597182389204 L 16.940201005025127 32.16747204061936 L 17.047236180904523 32.229346898849506 L 17.15427135678392 32.29122175707966 L 17.261306532663315 32.35309661530981 L 17.368341708542715 32.414971473539964 L 17.47537688442211 32.47684633177011 L 17.582412060301507 32.53872119000026 L 17.689447236180904 32.60059604823041 L 17.7964824120603 32.66247090646056 L 17.9035175879397 32.72434576469071 L 18.010552763819096 32.786220622920865 L 18.117587939698492 32.84809548115101 L 18.224623115577888 32.90997033938116 L 18.331658291457288 32.971845197611316 L 18.438693467336684 33.033720055841464 L 18.54572864321608 33.09559491407161 L 18.652763819095476 33.157469772301766 L 18.759798994974876 33.219344630531914 L 18.866834170854272 33.28121948876206 L 18.973869346733668 33.34309434699222 L 19.080904522613064 33.404969205222365 L 19.18793969849246 33.46684406345251 L 19.29497487437186 33.52871892168267 L 19.402010050251256 33.590593779912815 L 19.509045226130652 33.65246863814296 L 19.61608040201005 33.71434349637312 L 19.72311557788945 33.776218354603266 L 19.830150753768844 33.838093212833414 L 19.93718592964824 33.89996807106357 L 20.044221105527637 33.96184292929372 L 20.151256281407036 34.023717787523864 L 20.258291457286433 34.08559264575402 L 20.36532663316583 34.14746750398417 L 20.472361809045225 34.209342362214315 L 20.579396984924625 34.27121722044447 L 20.68643216080402 34.33309207867462 L 20.793467336683417 34.394966936904765 L 20.900502512562813 34.45684179513492 L 21.00753768844221 34.51871665336507 L 21.11457286432161 34.58059151159522 L 21.221608040201005 34.64246636982537 L 21.3286432160804 34.70434122805552 L 21.435678391959797 34.76621608628567 L 21.542713567839197 34.82809094451582 L 21.649748743718593 34.88996580274598 L 21.75678391959799 34.951840660976124 L 21.863819095477385 35.01371551920627 L 21.970854271356785 35.07559037743643 L 22.07788944723618 35.137465235666575 L 22.184924623115577 35.19934009389672 L 22.291959798994974 35.26121495212688 L 22.398994974874373 35.323089810357025 L 22.50603015075377 35.38496466858717 L 22.613065326633166 35.44683952681733 L 22.72010050251256 35.508714385047476 L 22.827135678391958 35.570589243277624 L 22.934170854271358 35.63246410150778 L 23.041206030150754 35.69433895973793 L 23.14824120603015 35.756213817968074 L 23.255276381909546 35.81808867619823 L 23.362311557788942 35.87996353442838 L 23.469346733668342 35.941838392658525 L 23.576381909547738 36.00371325088868 L 23.683417085427134 36.06558810911883 L 23.79045226130653 36.127462967348976 L 23.89748743718593 36.18933782557913 L 24.004522613065326 36.25121268380928 L 24.111557788944722 36.313087542039426 L 24.21859296482412 36.37496240026958 L 24.325628140703518 36.43683725849973 L 24.432663316582914 36.49871211672988 L 24.53969849246231 36.56058697496003 L 24.646733668341707 36.62246183319018 L 24.753768844221103 36.68433669142033 L 24.860804020100502 36.74621154965048 L 24.9678391959799 36.80808640788063 L 25.074874371859295 36.86996126611078 L 25.18190954773869 36.93183612434093 L 25.28894472361809 36.99371098257109 L 25.395979899497487 37.055585840801236 L 25.503015075376883 37.11746069903138 L 25.61005025125628 37.17933555726153 L 25.71708542713568 37.241210415491686 L 25.824120603015075 37.303085273721834 L 25.93115577889447 37.36496013195199 L 26.038190954773867 37.42683499018214 L 26.145226130653263 37.488709848412284 L 26.252261306532663 37.55058470664244 L 26.35929648241206 37.61245956487259 L 26.466331658291455 37.674334423102735 L 26.57336683417085 37.73620928133289 L 26.68040201005025 37.79808413956304 L 26.787437185929647 37.859958997793186 L 26.894472361809044 37.92183385602334 L 27.00150753768844 37.98370871425349 L 27.10854271356784 38.045583572483636 L 27.215577889447236 38.10745843071379 L 27.32261306532663 38.16933328894394 L 27.429648241206028 38.23120814717409 L 27.536683417085428 38.29308300540424 L 27.643718592964824 38.35495786363439 L 27.75075376884422 38.41683272186454 L 27.857788944723616 38.47870758009469 L 27.964824120603012 38.54058243832484 L 28.071859296482412 38.60245729655499 L 28.178894472361808 38.66433215478514 L 28.285929648241204 38.72620701301529 L 28.3929648241206 38.78808187124544 L 28.5 38.84995672947559",
          "type": "path"
         }
        ],
        "template": {
         "data": {
          "bar": [
           {
            "error_x": {
             "color": "#2a3f5f"
            },
            "error_y": {
             "color": "#2a3f5f"
            },
            "marker": {
             "line": {
              "color": "white",
              "width": 0.5
             },
             "pattern": {
              "fillmode": "overlay",
              "size": 10,
              "solidity": 0.2
             }
            },
            "type": "bar"
           }
          ],
          "barpolar": [
           {
            "marker": {
             "line": {
              "color": "white",
              "width": 0.5
             },
             "pattern": {
              "fillmode": "overlay",
              "size": 10,
              "solidity": 0.2
             }
            },
            "type": "barpolar"
           }
          ],
          "box": [
           {
            "boxpoints": "outliers",
            "notched": false,
            "type": "box"
           }
          ],
          "carpet": [
           {
            "aaxis": {
             "endlinecolor": "#2a3f5f",
             "gridcolor": "#C8D4E3",
             "linecolor": "#C8D4E3",
             "minorgridcolor": "#C8D4E3",
             "startlinecolor": "#2a3f5f"
            },
            "baxis": {
             "endlinecolor": "#2a3f5f",
             "gridcolor": "#C8D4E3",
             "linecolor": "#C8D4E3",
             "minorgridcolor": "#C8D4E3",
             "startlinecolor": "#2a3f5f"
            },
            "type": "carpet"
           }
          ],
          "choropleth": [
           {
            "colorbar": {
             "outlinewidth": 0,
             "ticks": ""
            },
            "type": "choropleth"
           }
          ],
          "contour": [
           {
            "colorbar": {
             "outlinewidth": 0,
             "ticks": ""
            },
            "colorscale": [
             [
              0,
              "#0d0887"
             ],
             [
              0.1111111111111111,
              "#46039f"
             ],
             [
              0.2222222222222222,
              "#7201a8"
             ],
             [
              0.3333333333333333,
              "#9c179e"
             ],
             [
              0.4444444444444444,
              "#bd3786"
             ],
             [
              0.5555555555555556,
              "#d8576b"
             ],
             [
              0.6666666666666666,
              "#ed7953"
             ],
             [
              0.7777777777777778,
              "#fb9f3a"
             ],
             [
              0.8888888888888888,
              "#fdca26"
             ],
             [
              1,
              "#f0f921"
             ]
            ],
            "type": "contour"
           }
          ],
          "contourcarpet": [
           {
            "colorbar": {
             "outlinewidth": 0,
             "ticks": ""
            },
            "type": "contourcarpet"
           }
          ],
          "heatmap": [
           {
            "colorbar": {
             "outlinewidth": 0,
             "ticks": ""
            },
            "colorscale": [
             [
              0,
              "#0d0887"
             ],
             [
              0.1111111111111111,
              "#46039f"
             ],
             [
              0.2222222222222222,
              "#7201a8"
             ],
             [
              0.3333333333333333,
              "#9c179e"
             ],
             [
              0.4444444444444444,
              "#bd3786"
             ],
             [
              0.5555555555555556,
              "#d8576b"
             ],
             [
              0.6666666666666666,
              "#ed7953"
             ],
             [
              0.7777777777777778,
              "#fb9f3a"
             ],
             [
              0.8888888888888888,
              "#fdca26"
             ],
             [
              1,
              "#f0f921"
             ]
            ],
            "type": "heatmap"
           }
          ],
          "heatmapgl": [
           {
            "colorbar": {
             "outlinewidth": 0,
             "ticks": ""
            },
            "colorscale": [
             [
              0,
              "#0d0887"
             ],
             [
              0.1111111111111111,
              "#46039f"
             ],
             [
              0.2222222222222222,
              "#7201a8"
             ],
             [
              0.3333333333333333,
              "#9c179e"
             ],
             [
              0.4444444444444444,
              "#bd3786"
             ],
             [
              0.5555555555555556,
              "#d8576b"
             ],
             [
              0.6666666666666666,
              "#ed7953"
             ],
             [
              0.7777777777777778,
              "#fb9f3a"
             ],
             [
              0.8888888888888888,
              "#fdca26"
             ],
             [
              1,
              "#f0f921"
             ]
            ],
            "type": "heatmapgl"
           }
          ],
          "histogram": [
           {
            "marker": {
             "line": {
              "width": 1
             },
             "pattern": {
              "fillmode": "overlay",
              "size": 10,
              "solidity": 0.2
             }
            },
            "type": "histogram"
           }
          ],
          "histogram2d": [
           {
            "colorbar": {
             "outlinewidth": 0,
             "ticks": ""
            },
            "colorscale": [
             [
              0,
              "#0d0887"
             ],
             [
              0.1111111111111111,
              "#46039f"
             ],
             [
              0.2222222222222222,
              "#7201a8"
             ],
             [
              0.3333333333333333,
              "#9c179e"
             ],
             [
              0.4444444444444444,
              "#bd3786"
             ],
             [
              0.5555555555555556,
              "#d8576b"
             ],
             [
              0.6666666666666666,
              "#ed7953"
             ],
             [
              0.7777777777777778,
              "#fb9f3a"
             ],
             [
              0.8888888888888888,
              "#fdca26"
             ],
             [
              1,
              "#f0f921"
             ]
            ],
            "type": "histogram2d"
           }
          ],
          "histogram2dcontour": [
           {
            "colorbar": {
             "outlinewidth": 0,
             "ticks": ""
            },
            "colorscale": [
             [
              0,
              "#0d0887"
             ],
             [
              0.1111111111111111,
              "#46039f"
             ],
             [
              0.2222222222222222,
              "#7201a8"
             ],
             [
              0.3333333333333333,
              "#9c179e"
             ],
             [
              0.4444444444444444,
              "#bd3786"
             ],
             [
              0.5555555555555556,
              "#d8576b"
             ],
             [
              0.6666666666666666,
              "#ed7953"
             ],
             [
              0.7777777777777778,
              "#fb9f3a"
             ],
             [
              0.8888888888888888,
              "#fdca26"
             ],
             [
              1,
              "#f0f921"
             ]
            ],
            "type": "histogram2dcontour"
           }
          ],
          "mesh3d": [
           {
            "colorbar": {
             "outlinewidth": 0,
             "ticks": ""
            },
            "type": "mesh3d"
           }
          ],
          "parcoords": [
           {
            "line": {
             "colorbar": {
              "outlinewidth": 0,
              "ticks": ""
             }
            },
            "type": "parcoords"
           }
          ],
          "pie": [
           {
            "automargin": true,
            "type": "pie"
           }
          ],
          "scatter": [
           {
            "fillpattern": {
             "fillmode": "overlay",
             "size": 10,
             "solidity": 0.2
            },
            "marker": {
             "opacity": 0.8
            },
            "type": "scatter"
           }
          ],
          "scatter3d": [
           {
            "line": {
             "colorbar": {
              "outlinewidth": 0,
              "ticks": ""
             }
            },
            "marker": {
             "colorbar": {
              "outlinewidth": 0,
              "ticks": ""
             },
             "opacity": 0.8
            },
            "type": "scatter3d"
           }
          ],
          "scattercarpet": [
           {
            "marker": {
             "colorbar": {
              "outlinewidth": 0,
              "ticks": ""
             }
            },
            "type": "scattercarpet"
           }
          ],
          "scattergeo": [
           {
            "marker": {
             "colorbar": {
              "outlinewidth": 0,
              "ticks": ""
             }
            },
            "type": "scattergeo"
           }
          ],
          "scattergl": [
           {
            "marker": {
             "colorbar": {
              "outlinewidth": 0,
              "ticks": ""
             }
            },
            "type": "scattergl"
           }
          ],
          "scattermapbox": [
           {
            "marker": {
             "colorbar": {
              "outlinewidth": 0,
              "ticks": ""
             }
            },
            "type": "scattermapbox"
           }
          ],
          "scatterpolar": [
           {
            "marker": {
             "colorbar": {
              "outlinewidth": 0,
              "ticks": ""
             }
            },
            "type": "scatterpolar"
           }
          ],
          "scatterpolargl": [
           {
            "marker": {
             "colorbar": {
              "outlinewidth": 0,
              "ticks": ""
             }
            },
            "type": "scatterpolargl"
           }
          ],
          "scatterternary": [
           {
            "marker": {
             "colorbar": {
              "outlinewidth": 0,
              "ticks": ""
             }
            },
            "type": "scatterternary"
           }
          ],
          "surface": [
           {
            "colorbar": {
             "outlinewidth": 0,
             "ticks": ""
            },
            "colorscale": [
             [
              0,
              "#0d0887"
             ],
             [
              0.1111111111111111,
              "#46039f"
             ],
             [
              0.2222222222222222,
              "#7201a8"
             ],
             [
              0.3333333333333333,
              "#9c179e"
             ],
             [
              0.4444444444444444,
              "#bd3786"
             ],
             [
              0.5555555555555556,
              "#d8576b"
             ],
             [
              0.6666666666666666,
              "#ed7953"
             ],
             [
              0.7777777777777778,
              "#fb9f3a"
             ],
             [
              0.8888888888888888,
              "#fdca26"
             ],
             [
              1,
              "#f0f921"
             ]
            ],
            "type": "surface"
           }
          ],
          "table": [
           {
            "cells": {
             "fill": {
              "color": "#EBF0F8"
             },
             "line": {
              "color": "white"
             }
            },
            "header": {
             "fill": {
              "color": "#C8D4E3"
             },
             "line": {
              "color": "white"
             }
            },
            "type": "table"
           }
          ]
         },
         "layout": {
          "annotationdefaults": {
           "arrowcolor": "#2a3f5f",
           "arrowhead": 0,
           "arrowwidth": 1
          },
          "autotypenumbers": "strict",
          "coloraxis": {
           "colorbar": {
            "outlinewidth": 0,
            "ticks": ""
           }
          },
          "colorscale": {
           "diverging": [
            [
             0,
             "#8e0152"
            ],
            [
             0.1,
             "#c51b7d"
            ],
            [
             0.2,
             "#de77ae"
            ],
            [
             0.3,
             "#f1b6da"
            ],
            [
             0.4,
             "#fde0ef"
            ],
            [
             0.5,
             "#f7f7f7"
            ],
            [
             0.6,
             "#e6f5d0"
            ],
            [
             0.7,
             "#b8e186"
            ],
            [
             0.8,
             "#7fbc41"
            ],
            [
             0.9,
             "#4d9221"
            ],
            [
             1,
             "#276419"
            ]
           ],
           "sequential": [
            [
             0,
             "#0d0887"
            ],
            [
             0.1111111111111111,
             "#46039f"
            ],
            [
             0.2222222222222222,
             "#7201a8"
            ],
            [
             0.3333333333333333,
             "#9c179e"
            ],
            [
             0.4444444444444444,
             "#bd3786"
            ],
            [
             0.5555555555555556,
             "#d8576b"
            ],
            [
             0.6666666666666666,
             "#ed7953"
            ],
            [
             0.7777777777777778,
             "#fb9f3a"
            ],
            [
             0.8888888888888888,
             "#fdca26"
            ],
            [
             1,
             "#f0f921"
            ]
           ],
           "sequentialminus": [
            [
             0,
             "#0d0887"
            ],
            [
             0.1111111111111111,
             "#46039f"
            ],
            [
             0.2222222222222222,
             "#7201a8"
            ],
            [
             0.3333333333333333,
             "#9c179e"
            ],
            [
             0.4444444444444444,
             "#bd3786"
            ],
            [
             0.5555555555555556,
             "#d8576b"
            ],
            [
             0.6666666666666666,
             "#ed7953"
            ],
            [
             0.7777777777777778,
             "#fb9f3a"
            ],
            [
             0.8888888888888888,
             "#fdca26"
            ],
            [
             1,
             "#f0f921"
            ]
           ]
          },
          "colorway": [
           "#636efa",
           "#EF553B",
           "#00cc96",
           "#ab63fa",
           "#FFA15A",
           "#19d3f3",
           "#FF6692",
           "#B6E880",
           "#FF97FF",
           "#FECB52"
          ],
          "font": {
           "color": "#2a3f5f"
          },
          "geo": {
           "bgcolor": "white",
           "lakecolor": "white",
           "landcolor": "white",
           "showlakes": true,
           "showland": true,
           "subunitcolor": "#C8D4E3"
          },
          "height": 400,
          "hoverlabel": {
           "align": "left"
          },
          "hovermode": "closest",
          "mapbox": {
           "style": "light"
          },
          "margin": {
           "b": 2,
           "l": 2,
           "r": 2,
           "t": 30
          },
          "paper_bgcolor": "white",
          "plot_bgcolor": "white",
          "polar": {
           "angularaxis": {
            "gridcolor": "#EBF0F8",
            "linecolor": "#EBF0F8",
            "ticks": ""
           },
           "bgcolor": "white",
           "radialaxis": {
            "gridcolor": "#EBF0F8",
            "linecolor": "#EBF0F8",
            "ticks": ""
           }
          },
          "scene": {
           "camera": {
            "eye": {
             "x": 1.5,
             "y": 1.5,
             "z": 0.1
            }
           },
           "xaxis": {
            "backgroundcolor": "white",
            "gridcolor": "#DFE8F3",
            "gridwidth": 2,
            "linecolor": "#EBF0F8",
            "showbackground": true,
            "ticks": "",
            "zerolinecolor": "#EBF0F8"
           },
           "yaxis": {
            "backgroundcolor": "white",
            "gridcolor": "#DFE8F3",
            "gridwidth": 2,
            "linecolor": "#EBF0F8",
            "showbackground": true,
            "ticks": "",
            "zerolinecolor": "#EBF0F8"
           },
           "zaxis": {
            "backgroundcolor": "white",
            "gridcolor": "#DFE8F3",
            "gridwidth": 2,
            "linecolor": "#EBF0F8",
            "showbackground": true,
            "ticks": "",
            "zerolinecolor": "#EBF0F8"
           }
          },
          "shapedefaults": {
           "line": {
            "color": "#2a3f5f"
           }
          },
          "ternary": {
           "aaxis": {
            "gridcolor": "#DFE8F3",
            "linecolor": "#A2B1C6",
            "ticks": ""
           },
           "baxis": {
            "gridcolor": "#DFE8F3",
            "linecolor": "#A2B1C6",
            "ticks": ""
           },
           "bgcolor": "white",
           "caxis": {
            "gridcolor": "#DFE8F3",
            "linecolor": "#A2B1C6",
            "ticks": ""
           }
          },
          "title": {
           "x": 0.5
          },
          "xaxis": {
           "automargin": true,
           "gridcolor": "#EBF0F8",
           "linecolor": "#EBF0F8",
           "linewidth": 2,
           "showline": true,
           "ticks": "",
           "title": {
            "standoff": 15
           },
           "zerolinecolor": "#EBF0F8",
           "zerolinewidth": 2
          },
          "yaxis": {
           "automargin": true,
           "gridcolor": "#EBF0F8",
           "linecolor": "#EBF0F8",
           "linewidth": 2,
           "showline": true,
           "ticks": "",
           "title": {
            "standoff": 15
           },
           "zerolinecolor": "#EBF0F8",
           "zerolinewidth": 2
          }
         }
        },
        "xaxis": {
         "anchor": "y",
         "domain": [
          0,
          1
         ],
         "title": {
          "text": "weight last year"
         }
        },
        "yaxis": {
         "anchor": "x",
         "domain": [
          0,
          1
         ],
         "title": {
          "text": "rescues last year"
         }
        }
       }
      }
     },
     "metadata": {},
     "output_type": "display_data"
    }
   ],
   "source": [
    "# You don't need to understand this code well\n",
    "# It's just used to create a scatter plot\n",
    "\n",
    "# concatenate training and test so they can be graphed\n",
    "plot_set = pandas.concat([train,test])\n",
    "plot_set[\"Dataset\"] = [\"train\"] * len(train) + [\"test\"] * len(test)\n",
    "\n",
    "# Create graph\n",
    "graphing.scatter_2D(plot_set, \"weight_last_year\", \"rescues_last_year\", \"Dataset\", trendline = lambda x: model.params[1] * x + model.params[0])"
   ]
  },
  {
   "attachments": {},
   "cell_type": "markdown",
   "metadata": {},
   "source": [
    "# Training Set\n",
    "\n",
    "We begin by training our model using the _training set_, and testing its performance with the same _training set_:"
   ]
  },
  {
   "cell_type": "code",
   "execution_count": 12,
   "metadata": {},
   "outputs": [
    {
     "data": {
      "application/vnd.plotly.v1+json": {
       "config": {
        "plotlyServerURL": "https://plot.ly"
       },
       "data": [
        {
         "hovertemplate": "weight last year=%{x}<br>rescues last year=%{y}<extra></extra>",
         "legendgroup": "",
         "marker": {
          "color": "#636efa",
          "size": 19,
          "symbol": "circle"
         },
         "mode": "markers",
         "name": "",
         "orientation": "v",
         "showlegend": false,
         "type": "scatter",
         "x": [
          14.5,
          14,
          17.7,
          13.7,
          18.4,
          12.4,
          13.1,
          17.1,
          14.3,
          20.2,
          14.5,
          17.8,
          18.6,
          19.5,
          18.3,
          19.6,
          22.7,
          19.6,
          17.8,
          19.1,
          23.1,
          21.1,
          28.5,
          20.6,
          11.4,
          22.2,
          14.6,
          16.5,
          16.1,
          17.2,
          21.6,
          22.5,
          21.2,
          19.4,
          16.2
         ],
         "xaxis": "x",
         "y": [
          35,
          30,
          34,
          29,
          30,
          25,
          26,
          37,
          32,
          30,
          35,
          32,
          33,
          36,
          32,
          36,
          38,
          35,
          33,
          34,
          37,
          35,
          34,
          40,
          20,
          32,
          31,
          38,
          31,
          36,
          44,
          28,
          39,
          30,
          44
         ],
         "yaxis": "y"
        }
       ],
       "layout": {
        "legend": {
         "tracegroupgap": 0
        },
        "shapes": [
         {
          "line": {
           "color": "rgb(228,26,28)"
          },
          "path": "M11.4 29.35058055087156 L 11.485929648241207 29.40289160934698 L 11.571859296482412 29.4552026678224 L 11.657788944723618 29.507513726297823 L 11.743718592964825 29.559824784773248 L 11.82964824120603 29.612135843248666 L 11.915577889447237 29.66444690172409 L 12.001507537688443 29.716757960199512 L 12.087437185929648 29.769069018674934 L 12.173366834170855 29.821380077150355 L 12.259296482412061 29.873691135625776 L 12.345226130653266 29.926002194101198 L 12.431155778894473 29.97831325257662 L 12.51708542713568 30.03062431105204 L 12.603015075376884 30.082935369527462 L 12.688944723618091 30.135246428002887 L 12.774874371859298 30.187557486478305 L 12.860804020100502 30.23986854495373 L 12.94673366834171 30.29217960342915 L 13.032663316582916 30.344490661904572 L 13.11859296482412 30.396801720379994 L 13.204522613065327 30.449112778855415 L 13.290452261306534 30.501423837330837 L 13.376381909547739 30.553734895806258 L 13.462311557788945 30.60604595428168 L 13.548241206030152 30.6583570127571 L 13.634170854271357 30.710668071232522 L 13.720100502512564 30.762979129707944 L 13.80603015075377 30.81529018818337 L 13.891959798994975 30.867601246658786 L 13.977889447236182 30.91991230513421 L 14.063819095477388 30.972223363609633 L 14.149748743718593 31.024534422085054 L 14.2356783919598 31.076845480560475 L 14.321608040201006 31.129156539035897 L 14.407537688442211 31.18146759751132 L 14.493467336683418 31.23377865598674 L 14.579396984924625 31.286089714462165 L 14.66532663316583 31.338400772937582 L 14.751256281407036 31.390711831413007 L 14.837185929648243 31.443022889888425 L 14.923115577889448 31.49533394836385 L 15.009045226130654 31.547645006839268 L 15.09497487437186 31.599956065314693 L 15.180904522613066 31.65226712379011 L 15.266834170854272 31.704578182265536 L 15.352763819095479 31.756889240740957 L 15.438693467336684 31.80920029921638 L 15.52462311557789 31.8615113576918 L 15.610552763819097 31.91382241616722 L 15.696482412060302 31.966133474642643 L 15.782412060301509 32.018444533118064 L 15.868341708542715 32.07075559159349 L 15.95427135678392 32.12306665006891 L 16.040201005025125 32.17537770854433 L 16.126130653266333 32.22768876701976 L 16.212060301507538 32.279999825495175 L 16.297989949748747 32.33231088397059 L 16.38391959798995 32.38462194244602 L 16.469849246231156 32.43693300092144 L 16.55577889447236 32.48924405939686 L 16.64170854271357 32.541555117872285 L 16.727638190954774 32.5938661763477 L 16.813567839195983 32.64617723482313 L 16.899497487437188 32.698488293298546 L 16.985427135678393 32.75079935177397 L 17.071356783919597 32.80311041024939 L 17.157286432160806 32.85542146872481 L 17.24321608040201 32.90773252720023 L 17.32914572864322 32.960043585675656 L 17.415075376884424 33.012354644151074 L 17.50100502512563 33.0646657026265 L 17.586934673366834 33.116976761101924 L 17.672864321608042 33.16928781957734 L 17.758793969849247 33.22159887805277 L 17.844723618090455 33.273909936528185 L 17.93065326633166 33.32622099500361 L 18.016582914572865 33.37853205347903 L 18.10251256281407 33.43084311195445 L 18.18844221105528 33.48315417042987 L 18.274371859296483 33.535465228905295 L 18.36030150753769 33.58777628738072 L 18.446231155778896 33.64008734585614 L 18.5321608040201 33.692398404331556 L 18.618090452261306 33.74470946280698 L 18.704020100502515 33.797020521282406 L 18.78994974874372 33.84933157975782 L 18.875879396984928 33.90164263823325 L 18.961809045226133 33.953953696708666 L 19.047738693467338 34.00626475518409 L 19.133668341708542 34.05857581365951 L 19.21959798994975 34.110886872134934 L 19.305527638190956 34.16319793061035 L 19.391457286432164 34.21550898908578 L 19.47738693467337 34.2678200475612 L 19.563316582914574 34.32013110603662 L 19.64924623115578 34.37244216451204 L 19.735175879396984 34.42475322298746 L 19.821105527638192 34.47706428146289 L 19.9070351758794 34.529375339938305 L 19.992964824120605 34.58168639841373 L 20.07889447236181 34.63399745688915 L 20.164824120603015 34.68630851536457 L 20.25075376884422 34.73861957383999 L 20.33668341708543 34.790930632315415 L 20.422613065326637 34.84324169079083 L 20.50854271356784 34.89555274926626 L 20.594472361809046 34.94786380774168 L 20.68040201005025 35.0001748662171 L 20.766331658291456 35.05248592469252 L 20.852261306532665 35.104796983167944 L 20.938190954773873 35.15710804164337 L 21.024120603015078 35.20941910011879 L 21.110050251256283 35.26173015859421 L 21.195979899497488 35.31404121706963 L 21.281909547738692 35.366352275545054 L 21.3678391959799 35.41866333402048 L 21.45376884422111 35.4709743924959 L 21.539698492462314 35.523285450971315 L 21.62562814070352 35.57559650944674 L 21.711557788944724 35.627907567922165 L 21.79748743718593 35.68021862639758 L 21.883417085427137 35.73252968487301 L 21.969346733668345 35.784840743348425 L 22.05527638190955 35.83715180182385 L 22.141206030150755 35.88946286029927 L 22.22713567839196 35.94177391877469 L 22.313065326633165 35.99408497725011 L 22.398994974874373 36.046396035725536 L 22.48492462311558 36.09870709420096 L 22.570854271356787 36.15101815267638 L 22.65678391959799 36.2033292111518 L 22.742713567839196 36.25564026962722 L 22.8286432160804 36.30795132810265 L 22.91457286432161 36.360262386578064 L 23.000502512562818 36.41257344505349 L 23.086432160804023 36.46488450352891 L 23.172361809045228 36.51719556200433 L 23.258291457286433 36.56950662047975 L 23.344221105527637 36.621817678955175 L 23.430150753768846 36.67412873743059 L 23.516080402010054 36.72643979590602 L 23.60201005025126 36.77875085438144 L 23.687939698492464 36.83106191285686 L 23.77386934673367 36.88337297133228 L 23.859798994974874 36.9356840298077 L 23.945728643216082 36.98799508828313 L 24.03165829145729 37.04030614675855 L 24.117587939698495 37.09261720523397 L 24.2035175879397 37.14492826370939 L 24.289447236180905 37.197239322184814 L 24.37537688442211 37.24955038066023 L 24.46130653266332 37.301861439135656 L 24.547236180904527 37.35417249761108 L 24.63316582914573 37.4064835560865 L 24.719095477386936 37.458794614561924 L 24.80502512562814 37.51110567303734 L 24.890954773869346 37.56341673151276 L 24.976884422110555 37.615727789988185 L 25.062814070351763 37.66803884846361 L 25.148743718592968 37.72034990693903 L 25.234673366834173 37.77266096541445 L 25.320603015075378 37.82497202388987 L 25.406532663316582 37.877283082365295 L 25.49246231155779 37.92959414084072 L 25.578391959799 37.98190519931614 L 25.664321608040204 38.034216257791556 L 25.75025125628141 38.08652731626698 L 25.836180904522614 38.138838374742406 L 25.92211055276382 38.191149433217824 L 26.008040201005027 38.24346049169325 L 26.093969849246236 38.295771550168666 L 26.17989949748744 38.34808260864409 L 26.265829145728645 38.40039366711951 L 26.35175879396985 38.45270472559493 L 26.437688442211055 38.50501578407035 L 26.523618090452263 38.55732684254578 L 26.609547738693472 38.6096379010212 L 26.695477386934677 38.66194895949662 L 26.78140703517588 38.71426001797204 L 26.867336683417086 38.76657107644746 L 26.95326633165829 38.81888213492289 L 27.0391959798995 38.871193193398305 L 27.125125628140708 38.92350425187373 L 27.211055276381913 38.97581531034915 L 27.296984924623118 39.02812636882457 L 27.382914572864323 39.08043742729999 L 27.468844221105527 39.13274848577541 L 27.554773869346732 39.185059544250834 L 27.640703517587944 39.23737060272626 L 27.72663316582915 39.28968166120168 L 27.812562814070354 39.3419927196771 L 27.89849246231156 39.39430377815252 L 27.984422110552764 39.446614836627944 L 28.07035175879397 39.49892589510337 L 28.15628140703518 39.551236953578794 L 28.242211055276385 39.60354801205421 L 28.32814070351759 39.65585907052963 L 28.414070351758795 39.708170129005055 L 28.5 39.76048118748047",
          "type": "path"
         }
        ],
        "template": {
         "data": {
          "bar": [
           {
            "error_x": {
             "color": "#2a3f5f"
            },
            "error_y": {
             "color": "#2a3f5f"
            },
            "marker": {
             "line": {
              "color": "white",
              "width": 0.5
             },
             "pattern": {
              "fillmode": "overlay",
              "size": 10,
              "solidity": 0.2
             }
            },
            "type": "bar"
           }
          ],
          "barpolar": [
           {
            "marker": {
             "line": {
              "color": "white",
              "width": 0.5
             },
             "pattern": {
              "fillmode": "overlay",
              "size": 10,
              "solidity": 0.2
             }
            },
            "type": "barpolar"
           }
          ],
          "box": [
           {
            "boxpoints": "outliers",
            "notched": false,
            "type": "box"
           }
          ],
          "carpet": [
           {
            "aaxis": {
             "endlinecolor": "#2a3f5f",
             "gridcolor": "#C8D4E3",
             "linecolor": "#C8D4E3",
             "minorgridcolor": "#C8D4E3",
             "startlinecolor": "#2a3f5f"
            },
            "baxis": {
             "endlinecolor": "#2a3f5f",
             "gridcolor": "#C8D4E3",
             "linecolor": "#C8D4E3",
             "minorgridcolor": "#C8D4E3",
             "startlinecolor": "#2a3f5f"
            },
            "type": "carpet"
           }
          ],
          "choropleth": [
           {
            "colorbar": {
             "outlinewidth": 0,
             "ticks": ""
            },
            "type": "choropleth"
           }
          ],
          "contour": [
           {
            "colorbar": {
             "outlinewidth": 0,
             "ticks": ""
            },
            "colorscale": [
             [
              0,
              "#0d0887"
             ],
             [
              0.1111111111111111,
              "#46039f"
             ],
             [
              0.2222222222222222,
              "#7201a8"
             ],
             [
              0.3333333333333333,
              "#9c179e"
             ],
             [
              0.4444444444444444,
              "#bd3786"
             ],
             [
              0.5555555555555556,
              "#d8576b"
             ],
             [
              0.6666666666666666,
              "#ed7953"
             ],
             [
              0.7777777777777778,
              "#fb9f3a"
             ],
             [
              0.8888888888888888,
              "#fdca26"
             ],
             [
              1,
              "#f0f921"
             ]
            ],
            "type": "contour"
           }
          ],
          "contourcarpet": [
           {
            "colorbar": {
             "outlinewidth": 0,
             "ticks": ""
            },
            "type": "contourcarpet"
           }
          ],
          "heatmap": [
           {
            "colorbar": {
             "outlinewidth": 0,
             "ticks": ""
            },
            "colorscale": [
             [
              0,
              "#0d0887"
             ],
             [
              0.1111111111111111,
              "#46039f"
             ],
             [
              0.2222222222222222,
              "#7201a8"
             ],
             [
              0.3333333333333333,
              "#9c179e"
             ],
             [
              0.4444444444444444,
              "#bd3786"
             ],
             [
              0.5555555555555556,
              "#d8576b"
             ],
             [
              0.6666666666666666,
              "#ed7953"
             ],
             [
              0.7777777777777778,
              "#fb9f3a"
             ],
             [
              0.8888888888888888,
              "#fdca26"
             ],
             [
              1,
              "#f0f921"
             ]
            ],
            "type": "heatmap"
           }
          ],
          "heatmapgl": [
           {
            "colorbar": {
             "outlinewidth": 0,
             "ticks": ""
            },
            "colorscale": [
             [
              0,
              "#0d0887"
             ],
             [
              0.1111111111111111,
              "#46039f"
             ],
             [
              0.2222222222222222,
              "#7201a8"
             ],
             [
              0.3333333333333333,
              "#9c179e"
             ],
             [
              0.4444444444444444,
              "#bd3786"
             ],
             [
              0.5555555555555556,
              "#d8576b"
             ],
             [
              0.6666666666666666,
              "#ed7953"
             ],
             [
              0.7777777777777778,
              "#fb9f3a"
             ],
             [
              0.8888888888888888,
              "#fdca26"
             ],
             [
              1,
              "#f0f921"
             ]
            ],
            "type": "heatmapgl"
           }
          ],
          "histogram": [
           {
            "marker": {
             "line": {
              "width": 1
             },
             "pattern": {
              "fillmode": "overlay",
              "size": 10,
              "solidity": 0.2
             }
            },
            "type": "histogram"
           }
          ],
          "histogram2d": [
           {
            "colorbar": {
             "outlinewidth": 0,
             "ticks": ""
            },
            "colorscale": [
             [
              0,
              "#0d0887"
             ],
             [
              0.1111111111111111,
              "#46039f"
             ],
             [
              0.2222222222222222,
              "#7201a8"
             ],
             [
              0.3333333333333333,
              "#9c179e"
             ],
             [
              0.4444444444444444,
              "#bd3786"
             ],
             [
              0.5555555555555556,
              "#d8576b"
             ],
             [
              0.6666666666666666,
              "#ed7953"
             ],
             [
              0.7777777777777778,
              "#fb9f3a"
             ],
             [
              0.8888888888888888,
              "#fdca26"
             ],
             [
              1,
              "#f0f921"
             ]
            ],
            "type": "histogram2d"
           }
          ],
          "histogram2dcontour": [
           {
            "colorbar": {
             "outlinewidth": 0,
             "ticks": ""
            },
            "colorscale": [
             [
              0,
              "#0d0887"
             ],
             [
              0.1111111111111111,
              "#46039f"
             ],
             [
              0.2222222222222222,
              "#7201a8"
             ],
             [
              0.3333333333333333,
              "#9c179e"
             ],
             [
              0.4444444444444444,
              "#bd3786"
             ],
             [
              0.5555555555555556,
              "#d8576b"
             ],
             [
              0.6666666666666666,
              "#ed7953"
             ],
             [
              0.7777777777777778,
              "#fb9f3a"
             ],
             [
              0.8888888888888888,
              "#fdca26"
             ],
             [
              1,
              "#f0f921"
             ]
            ],
            "type": "histogram2dcontour"
           }
          ],
          "mesh3d": [
           {
            "colorbar": {
             "outlinewidth": 0,
             "ticks": ""
            },
            "type": "mesh3d"
           }
          ],
          "parcoords": [
           {
            "line": {
             "colorbar": {
              "outlinewidth": 0,
              "ticks": ""
             }
            },
            "type": "parcoords"
           }
          ],
          "pie": [
           {
            "automargin": true,
            "type": "pie"
           }
          ],
          "scatter": [
           {
            "fillpattern": {
             "fillmode": "overlay",
             "size": 10,
             "solidity": 0.2
            },
            "marker": {
             "opacity": 0.8
            },
            "type": "scatter"
           }
          ],
          "scatter3d": [
           {
            "line": {
             "colorbar": {
              "outlinewidth": 0,
              "ticks": ""
             }
            },
            "marker": {
             "colorbar": {
              "outlinewidth": 0,
              "ticks": ""
             },
             "opacity": 0.8
            },
            "type": "scatter3d"
           }
          ],
          "scattercarpet": [
           {
            "marker": {
             "colorbar": {
              "outlinewidth": 0,
              "ticks": ""
             }
            },
            "type": "scattercarpet"
           }
          ],
          "scattergeo": [
           {
            "marker": {
             "colorbar": {
              "outlinewidth": 0,
              "ticks": ""
             }
            },
            "type": "scattergeo"
           }
          ],
          "scattergl": [
           {
            "marker": {
             "colorbar": {
              "outlinewidth": 0,
              "ticks": ""
             }
            },
            "type": "scattergl"
           }
          ],
          "scattermapbox": [
           {
            "marker": {
             "colorbar": {
              "outlinewidth": 0,
              "ticks": ""
             }
            },
            "type": "scattermapbox"
           }
          ],
          "scatterpolar": [
           {
            "marker": {
             "colorbar": {
              "outlinewidth": 0,
              "ticks": ""
             }
            },
            "type": "scatterpolar"
           }
          ],
          "scatterpolargl": [
           {
            "marker": {
             "colorbar": {
              "outlinewidth": 0,
              "ticks": ""
             }
            },
            "type": "scatterpolargl"
           }
          ],
          "scatterternary": [
           {
            "marker": {
             "colorbar": {
              "outlinewidth": 0,
              "ticks": ""
             }
            },
            "type": "scatterternary"
           }
          ],
          "surface": [
           {
            "colorbar": {
             "outlinewidth": 0,
             "ticks": ""
            },
            "colorscale": [
             [
              0,
              "#0d0887"
             ],
             [
              0.1111111111111111,
              "#46039f"
             ],
             [
              0.2222222222222222,
              "#7201a8"
             ],
             [
              0.3333333333333333,
              "#9c179e"
             ],
             [
              0.4444444444444444,
              "#bd3786"
             ],
             [
              0.5555555555555556,
              "#d8576b"
             ],
             [
              0.6666666666666666,
              "#ed7953"
             ],
             [
              0.7777777777777778,
              "#fb9f3a"
             ],
             [
              0.8888888888888888,
              "#fdca26"
             ],
             [
              1,
              "#f0f921"
             ]
            ],
            "type": "surface"
           }
          ],
          "table": [
           {
            "cells": {
             "fill": {
              "color": "#EBF0F8"
             },
             "line": {
              "color": "white"
             }
            },
            "header": {
             "fill": {
              "color": "#C8D4E3"
             },
             "line": {
              "color": "white"
             }
            },
            "type": "table"
           }
          ]
         },
         "layout": {
          "annotationdefaults": {
           "arrowcolor": "#2a3f5f",
           "arrowhead": 0,
           "arrowwidth": 1
          },
          "autotypenumbers": "strict",
          "coloraxis": {
           "colorbar": {
            "outlinewidth": 0,
            "ticks": ""
           }
          },
          "colorscale": {
           "diverging": [
            [
             0,
             "#8e0152"
            ],
            [
             0.1,
             "#c51b7d"
            ],
            [
             0.2,
             "#de77ae"
            ],
            [
             0.3,
             "#f1b6da"
            ],
            [
             0.4,
             "#fde0ef"
            ],
            [
             0.5,
             "#f7f7f7"
            ],
            [
             0.6,
             "#e6f5d0"
            ],
            [
             0.7,
             "#b8e186"
            ],
            [
             0.8,
             "#7fbc41"
            ],
            [
             0.9,
             "#4d9221"
            ],
            [
             1,
             "#276419"
            ]
           ],
           "sequential": [
            [
             0,
             "#0d0887"
            ],
            [
             0.1111111111111111,
             "#46039f"
            ],
            [
             0.2222222222222222,
             "#7201a8"
            ],
            [
             0.3333333333333333,
             "#9c179e"
            ],
            [
             0.4444444444444444,
             "#bd3786"
            ],
            [
             0.5555555555555556,
             "#d8576b"
            ],
            [
             0.6666666666666666,
             "#ed7953"
            ],
            [
             0.7777777777777778,
             "#fb9f3a"
            ],
            [
             0.8888888888888888,
             "#fdca26"
            ],
            [
             1,
             "#f0f921"
            ]
           ],
           "sequentialminus": [
            [
             0,
             "#0d0887"
            ],
            [
             0.1111111111111111,
             "#46039f"
            ],
            [
             0.2222222222222222,
             "#7201a8"
            ],
            [
             0.3333333333333333,
             "#9c179e"
            ],
            [
             0.4444444444444444,
             "#bd3786"
            ],
            [
             0.5555555555555556,
             "#d8576b"
            ],
            [
             0.6666666666666666,
             "#ed7953"
            ],
            [
             0.7777777777777778,
             "#fb9f3a"
            ],
            [
             0.8888888888888888,
             "#fdca26"
            ],
            [
             1,
             "#f0f921"
            ]
           ]
          },
          "colorway": [
           "#636efa",
           "#EF553B",
           "#00cc96",
           "#ab63fa",
           "#FFA15A",
           "#19d3f3",
           "#FF6692",
           "#B6E880",
           "#FF97FF",
           "#FECB52"
          ],
          "font": {
           "color": "#2a3f5f"
          },
          "geo": {
           "bgcolor": "white",
           "lakecolor": "white",
           "landcolor": "white",
           "showlakes": true,
           "showland": true,
           "subunitcolor": "#C8D4E3"
          },
          "height": 400,
          "hoverlabel": {
           "align": "left"
          },
          "hovermode": "closest",
          "mapbox": {
           "style": "light"
          },
          "margin": {
           "b": 2,
           "l": 2,
           "r": 2,
           "t": 30
          },
          "paper_bgcolor": "white",
          "plot_bgcolor": "white",
          "polar": {
           "angularaxis": {
            "gridcolor": "#EBF0F8",
            "linecolor": "#EBF0F8",
            "ticks": ""
           },
           "bgcolor": "white",
           "radialaxis": {
            "gridcolor": "#EBF0F8",
            "linecolor": "#EBF0F8",
            "ticks": ""
           }
          },
          "scene": {
           "camera": {
            "eye": {
             "x": 1.5,
             "y": 1.5,
             "z": 0.1
            }
           },
           "xaxis": {
            "backgroundcolor": "white",
            "gridcolor": "#DFE8F3",
            "gridwidth": 2,
            "linecolor": "#EBF0F8",
            "showbackground": true,
            "ticks": "",
            "zerolinecolor": "#EBF0F8"
           },
           "yaxis": {
            "backgroundcolor": "white",
            "gridcolor": "#DFE8F3",
            "gridwidth": 2,
            "linecolor": "#EBF0F8",
            "showbackground": true,
            "ticks": "",
            "zerolinecolor": "#EBF0F8"
           },
           "zaxis": {
            "backgroundcolor": "white",
            "gridcolor": "#DFE8F3",
            "gridwidth": 2,
            "linecolor": "#EBF0F8",
            "showbackground": true,
            "ticks": "",
            "zerolinecolor": "#EBF0F8"
           }
          },
          "shapedefaults": {
           "line": {
            "color": "#2a3f5f"
           }
          },
          "ternary": {
           "aaxis": {
            "gridcolor": "#DFE8F3",
            "linecolor": "#A2B1C6",
            "ticks": ""
           },
           "baxis": {
            "gridcolor": "#DFE8F3",
            "linecolor": "#A2B1C6",
            "ticks": ""
           },
           "bgcolor": "white",
           "caxis": {
            "gridcolor": "#DFE8F3",
            "linecolor": "#A2B1C6",
            "ticks": ""
           }
          },
          "title": {
           "x": 0.5
          },
          "xaxis": {
           "automargin": true,
           "gridcolor": "#EBF0F8",
           "linecolor": "#EBF0F8",
           "linewidth": 2,
           "showline": true,
           "ticks": "",
           "title": {
            "standoff": 15
           },
           "zerolinecolor": "#EBF0F8",
           "zerolinewidth": 2
          },
          "yaxis": {
           "automargin": true,
           "gridcolor": "#EBF0F8",
           "linecolor": "#EBF0F8",
           "linewidth": 2,
           "showline": true,
           "ticks": "",
           "title": {
            "standoff": 15
           },
           "zerolinecolor": "#EBF0F8",
           "zerolinewidth": 2
          }
         }
        },
        "xaxis": {
         "anchor": "y",
         "domain": [
          0,
          1
         ],
         "title": {
          "text": "weight last year"
         }
        },
        "yaxis": {
         "anchor": "x",
         "domain": [
          0,
          1
         ],
         "title": {
          "text": "rescues last year"
         }
        }
       }
      }
     },
     "metadata": {},
     "output_type": "display_data"
    }
   ],
   "source": [
    "import statsmodels.formula.api as smf\n",
    "from sklearn.metrics import mean_squared_error as mse\n",
    "\n",
    "# First, we define our formula using a special syntax\n",
    "# This says that rescues_last_year is explained by weight_last_year\n",
    "formula = \"rescues_last_year ~ weight_last_year\"\n",
    "\n",
    "# Create and train the model\n",
    "model = smf.ols(formula = formula, data = train).fit()\n",
    "\n",
    "# Graph the result against the data\n",
    "graphing.scatter_2D(train, \"weight_last_year\", \"rescues_last_year\", trendline = lambda x: model.params[1] * x + model.params[0])"
   ]
  },
  {
   "attachments": {},
   "cell_type": "markdown",
   "metadata": {},
   "source": [
    "We can gauge our model's performance by calculating the _mean squared error_ (MSE)."
   ]
  },
  {
   "cell_type": "code",
   "execution_count": 13,
   "metadata": {},
   "outputs": [
    {
     "name": "stdout",
     "output_type": "stream",
     "text": [
      "MSE = 18.679717 \n"
     ]
    }
   ],
   "source": [
    "# We use the in-buit sklearn function to calculate the MSE\n",
    "correct_labels = train['rescues_last_year']\n",
    "predicted = model.predict(train['weight_last_year'])\n",
    "\n",
    "MSE = mse(correct_labels, predicted)\n",
    "print('MSE = %f ' % MSE)"
   ]
  },
  {
   "attachments": {},
   "cell_type": "markdown",
   "metadata": {},
   "source": [
    "# Test Set\n",
    "\n",
    "Next, we test the same model's performance using the _test set_:"
   ]
  },
  {
   "cell_type": "code",
   "execution_count": 14,
   "metadata": {},
   "outputs": [
    {
     "data": {
      "application/vnd.plotly.v1+json": {
       "config": {
        "plotlyServerURL": "https://plot.ly"
       },
       "data": [
        {
         "hovertemplate": "weight last year=%{x}<br>rescues last year=%{y}<extra></extra>",
         "legendgroup": "",
         "marker": {
          "color": "#636efa",
          "size": 19,
          "symbol": "circle"
         },
         "mode": "markers",
         "name": "",
         "orientation": "v",
         "showlegend": false,
         "type": "scatter",
         "x": [
          21.4,
          18.6,
          12.6,
          14.8,
          9.3,
          7.2,
          19.4,
          19.5,
          20,
          15.4,
          16.9,
          21,
          17.1,
          23.5,
          23
         ],
         "xaxis": "x",
         "y": [
          42,
          39,
          30,
          26,
          29,
          27,
          37,
          30,
          26,
          25,
          29,
          29,
          30,
          29,
          37
         ],
         "yaxis": "y"
        }
       ],
       "layout": {
        "legend": {
         "tracegroupgap": 0
        },
        "shapes": [
         {
          "line": {
           "color": "rgb(228,26,28)"
          },
          "path": "M7.2 26.793762850651827 L 7.281909547738693 26.84362660814594 L 7.363819095477387 26.893490365640055 L 7.44572864321608 26.94335412313417 L 7.527638190954774 26.993217880628286 L 7.609547738693467 27.043081638122402 L 7.691457286432161 27.092945395616518 L 7.773366834170854 27.142809153110633 L 7.8552763819095475 27.19267291060475 L 7.937185929648241 27.242536668098865 L 8.019095477386935 27.29240042559298 L 8.101005025125628 27.342264183087096 L 8.182914572864322 27.39212794058121 L 8.264824120603015 27.441991698075327 L 8.34673366834171 27.491855455569443 L 8.428643216080403 27.54171921306356 L 8.510552763819096 27.591582970557674 L 8.592462311557789 27.64144672805179 L 8.674371859296482 27.691310485545902 L 8.756281407035177 27.74117424304002 L 8.83819095477387 27.791038000534133 L 8.920100502512563 27.84090175802825 L 9.002010050251256 27.890765515522364 L 9.08391959798995 27.94062927301648 L 9.165829145728644 27.990493030510596 L 9.247738693467337 28.04035678800471 L 9.32964824120603 28.090220545498827 L 9.411557788944723 28.140084302992943 L 9.493467336683416 28.189948060487055 L 9.575376884422111 28.239811817981174 L 9.657286432160804 28.289675575475286 L 9.739195979899497 28.3395393329694 L 9.821105527638192 28.38940309046352 L 9.903015075376885 28.439266847957633 L 9.984924623115578 28.48913060545175 L 10.066834170854271 28.538994362945864 L 10.148743718592964 28.58885812043998 L 10.230653266331657 28.638721877934096 L 10.312562814070352 28.68858563542821 L 10.394472361809045 28.738449392922327 L 10.476381909547738 28.788313150416442 L 10.558291457286433 28.838176907910558 L 10.640201005025126 28.888040665404674 L 10.72211055276382 28.93790442289879 L 10.804020100502512 28.987768180392905 L 10.885929648241206 29.03763193788702 L 10.967839195979899 29.087495695381133 L 11.049748743718594 29.137359452875252 L 11.131658291457287 29.187223210369368 L 11.21356783919598 29.23708696786348 L 11.295477386934675 29.2869507253576 L 11.377386934673368 29.33681448285171 L 11.45929648241206 29.386678240345827 L 11.541206030150754 29.436541997839942 L 11.623115577889447 29.486405755334058 L 11.70502512562814 29.536269512828174 L 11.786934673366833 29.586133270322286 L 11.868844221105528 29.635997027816405 L 11.950753768844221 29.68586078531052 L 12.032663316582916 29.735724542804636 L 12.114572864321609 29.785588300298752 L 12.196482412060302 29.835452057792864 L 12.278391959798995 29.88531581528698 L 12.360301507537688 29.935179572781095 L 12.442211055276381 29.98504333027521 L 12.524120603015074 30.034907087769326 L 12.606030150753769 30.084770845263442 L 12.687939698492462 30.134634602757558 L 12.769849246231157 30.184498360251673 L 12.85175879396985 30.23436211774579 L 12.933668341708543 30.284225875239905 L 13.015577889447236 30.33408963273402 L 13.09748743718593 30.383953390228136 L 13.179396984924622 30.43381714772225 L 13.261306532663315 30.483680905216367 L 13.34321608040201 30.533544662710483 L 13.425125628140703 30.5834084202046 L 13.507035175879398 30.633272177698714 L 13.588944723618091 30.68313593519283 L 13.670854271356784 30.732999692686946 L 13.752763819095478 30.782863450181058 L 13.83467336683417 30.832727207675173 L 13.916582914572864 30.88259096516929 L 13.998492462311557 30.932454722663405 L 14.080402010050252 30.98231848015752 L 14.162311557788945 31.032182237651636 L 14.24422110552764 31.08204599514575 L 14.326130653266333 31.131909752639867 L 14.408040201005026 31.18177351013398 L 14.489949748743719 31.231637267628095 L 14.571859296482412 31.28150102512221 L 14.653768844221105 31.331364782616326 L 14.735678391959798 31.381228540110442 L 14.817587939698493 31.431092297604557 L 14.899497487437186 31.480956055098673 L 14.98140703517588 31.53081981259279 L 15.063316582914574 31.580683570086904 L 15.145226130653267 31.63054732758102 L 15.22713567839196 31.680411085075136 L 15.309045226130653 31.73027484256925 L 15.390954773869346 31.780138600063367 L 15.47286432160804 31.830002357557483 L 15.554773869346732 31.8798661150516 L 15.636683417085429 31.929729872545714 L 15.718592964824122 31.97959363003983 L 15.800502512562815 32.029457387533945 L 15.882412060301508 32.07932114502806 L 15.964321608040201 32.12918490252218 L 16.046231155778894 32.17904866001629 L 16.128140703517587 32.2289124175104 L 16.21005025125628 32.27877617500452 L 16.291959798994974 32.32863993249863 L 16.373869346733667 32.37850368999275 L 16.455778894472363 32.42836744748686 L 16.537688442211056 32.478231204980986 L 16.61959798994975 32.528094962475095 L 16.701507537688443 32.57795871996921 L 16.783417085427136 32.627822477463326 L 16.86532663316583 32.67768623495744 L 16.94723618090452 32.72754999245156 L 17.029145728643215 32.77741374994567 L 17.111055276381908 32.82727750743979 L 17.192964824120605 32.877141264933904 L 17.274874371859298 32.92700502242802 L 17.35678391959799 32.976868779922135 L 17.438693467336684 33.02673253741625 L 17.520603015075377 33.07659629491037 L 17.60251256281407 33.12646005240448 L 17.684422110552763 33.1763238098986 L 17.766331658291456 33.226187567392714 L 17.84824120603015 33.27605132488683 L 17.930150753768846 33.325915082380945 L 18.01206030150754 33.37577883987506 L 18.093969849246232 33.425642597369176 L 18.175879396984925 33.47550635486329 L 18.257788944723618 33.52537011235741 L 18.33969849246231 33.575233869851516 L 18.421608040201004 33.62509762734564 L 18.503517587939697 33.67496138483975 L 18.58542713567839 33.72482514233387 L 18.667336683417087 33.774688899827986 L 18.74924623115578 33.8245526573221 L 18.831155778894473 33.87441641481621 L 18.913065326633166 33.92428017231033 L 18.99497487437186 33.97414392980444 L 19.076884422110552 34.02400768729856 L 19.158793969849246 34.07387144479267 L 19.24070351758794 34.12373520228679 L 19.32261306532663 34.173598959780904 L 19.40452261306533 34.22346271727502 L 19.48643216080402 34.273326474769135 L 19.568341708542714 34.32319023226325 L 19.650251256281408 34.373053989757366 L 19.7321608040201 34.42291774725148 L 19.814070351758794 34.4727815047456 L 19.895979899497487 34.52264526223971 L 19.97788944723618 34.57250901973383 L 20.059798994974873 34.622372777227945 L 20.14170854271357 34.67223653472206 L 20.223618090452263 34.722100292216176 L 20.305527638190956 34.77196404971029 L 20.38743718592965 34.82182780720441 L 20.469346733668342 34.87169156469852 L 20.551256281407035 34.92155532219264 L 20.633165829145728 34.971419079686754 L 20.71507537688442 35.02128283718086 L 20.796984924623114 35.071146594674985 L 20.87889447236181 35.1210103521691 L 20.960804020100504 35.17087410966322 L 21.042713567839197 35.220737867157325 L 21.12462311557789 35.27060162465145 L 21.206532663316583 35.32046538214556 L 21.288442211055276 35.37032913963968 L 21.37035175879397 35.42019289713379 L 21.452261306532662 35.4700566546279 L 21.534170854271355 35.51992041212202 L 21.61608040201005 35.569784169616135 L 21.697989949748745 35.61964792711025 L 21.77989949748744 35.669511684604366 L 21.86180904522613 35.71937544209848 L 21.943718592964824 35.7692391995926 L 22.025628140703517 35.81910295708671 L 22.10753768844221 35.86896671458083 L 22.189447236180904 35.918830472074944 L 22.271356783919597 35.96869422956906 L 22.35326633165829 36.018557987063176 L 22.435175879396986 36.06842174455729 L 22.51708542713568 36.11828550205141 L 22.598994974874373 36.16814925954552 L 22.680904522613066 36.21801301703964 L 22.76281407035176 36.267876774533754 L 22.844723618090452 36.31774053202787 L 22.926633165829145 36.367604289521985 L 23.008542713567838 36.4174680470161 L 23.09045226130653 36.46733180451021 L 23.172361809045228 36.51719556200433 L 23.254271356783917 36.56705931949844 L 23.336180904522614 36.61692307699256 L 23.418090452261307 36.66678683448667 L 23.5 36.716650591980795",
          "type": "path"
         }
        ],
        "template": {
         "data": {
          "bar": [
           {
            "error_x": {
             "color": "#2a3f5f"
            },
            "error_y": {
             "color": "#2a3f5f"
            },
            "marker": {
             "line": {
              "color": "white",
              "width": 0.5
             },
             "pattern": {
              "fillmode": "overlay",
              "size": 10,
              "solidity": 0.2
             }
            },
            "type": "bar"
           }
          ],
          "barpolar": [
           {
            "marker": {
             "line": {
              "color": "white",
              "width": 0.5
             },
             "pattern": {
              "fillmode": "overlay",
              "size": 10,
              "solidity": 0.2
             }
            },
            "type": "barpolar"
           }
          ],
          "box": [
           {
            "boxpoints": "outliers",
            "notched": false,
            "type": "box"
           }
          ],
          "carpet": [
           {
            "aaxis": {
             "endlinecolor": "#2a3f5f",
             "gridcolor": "#C8D4E3",
             "linecolor": "#C8D4E3",
             "minorgridcolor": "#C8D4E3",
             "startlinecolor": "#2a3f5f"
            },
            "baxis": {
             "endlinecolor": "#2a3f5f",
             "gridcolor": "#C8D4E3",
             "linecolor": "#C8D4E3",
             "minorgridcolor": "#C8D4E3",
             "startlinecolor": "#2a3f5f"
            },
            "type": "carpet"
           }
          ],
          "choropleth": [
           {
            "colorbar": {
             "outlinewidth": 0,
             "ticks": ""
            },
            "type": "choropleth"
           }
          ],
          "contour": [
           {
            "colorbar": {
             "outlinewidth": 0,
             "ticks": ""
            },
            "colorscale": [
             [
              0,
              "#0d0887"
             ],
             [
              0.1111111111111111,
              "#46039f"
             ],
             [
              0.2222222222222222,
              "#7201a8"
             ],
             [
              0.3333333333333333,
              "#9c179e"
             ],
             [
              0.4444444444444444,
              "#bd3786"
             ],
             [
              0.5555555555555556,
              "#d8576b"
             ],
             [
              0.6666666666666666,
              "#ed7953"
             ],
             [
              0.7777777777777778,
              "#fb9f3a"
             ],
             [
              0.8888888888888888,
              "#fdca26"
             ],
             [
              1,
              "#f0f921"
             ]
            ],
            "type": "contour"
           }
          ],
          "contourcarpet": [
           {
            "colorbar": {
             "outlinewidth": 0,
             "ticks": ""
            },
            "type": "contourcarpet"
           }
          ],
          "heatmap": [
           {
            "colorbar": {
             "outlinewidth": 0,
             "ticks": ""
            },
            "colorscale": [
             [
              0,
              "#0d0887"
             ],
             [
              0.1111111111111111,
              "#46039f"
             ],
             [
              0.2222222222222222,
              "#7201a8"
             ],
             [
              0.3333333333333333,
              "#9c179e"
             ],
             [
              0.4444444444444444,
              "#bd3786"
             ],
             [
              0.5555555555555556,
              "#d8576b"
             ],
             [
              0.6666666666666666,
              "#ed7953"
             ],
             [
              0.7777777777777778,
              "#fb9f3a"
             ],
             [
              0.8888888888888888,
              "#fdca26"
             ],
             [
              1,
              "#f0f921"
             ]
            ],
            "type": "heatmap"
           }
          ],
          "heatmapgl": [
           {
            "colorbar": {
             "outlinewidth": 0,
             "ticks": ""
            },
            "colorscale": [
             [
              0,
              "#0d0887"
             ],
             [
              0.1111111111111111,
              "#46039f"
             ],
             [
              0.2222222222222222,
              "#7201a8"
             ],
             [
              0.3333333333333333,
              "#9c179e"
             ],
             [
              0.4444444444444444,
              "#bd3786"
             ],
             [
              0.5555555555555556,
              "#d8576b"
             ],
             [
              0.6666666666666666,
              "#ed7953"
             ],
             [
              0.7777777777777778,
              "#fb9f3a"
             ],
             [
              0.8888888888888888,
              "#fdca26"
             ],
             [
              1,
              "#f0f921"
             ]
            ],
            "type": "heatmapgl"
           }
          ],
          "histogram": [
           {
            "marker": {
             "line": {
              "width": 1
             },
             "pattern": {
              "fillmode": "overlay",
              "size": 10,
              "solidity": 0.2
             }
            },
            "type": "histogram"
           }
          ],
          "histogram2d": [
           {
            "colorbar": {
             "outlinewidth": 0,
             "ticks": ""
            },
            "colorscale": [
             [
              0,
              "#0d0887"
             ],
             [
              0.1111111111111111,
              "#46039f"
             ],
             [
              0.2222222222222222,
              "#7201a8"
             ],
             [
              0.3333333333333333,
              "#9c179e"
             ],
             [
              0.4444444444444444,
              "#bd3786"
             ],
             [
              0.5555555555555556,
              "#d8576b"
             ],
             [
              0.6666666666666666,
              "#ed7953"
             ],
             [
              0.7777777777777778,
              "#fb9f3a"
             ],
             [
              0.8888888888888888,
              "#fdca26"
             ],
             [
              1,
              "#f0f921"
             ]
            ],
            "type": "histogram2d"
           }
          ],
          "histogram2dcontour": [
           {
            "colorbar": {
             "outlinewidth": 0,
             "ticks": ""
            },
            "colorscale": [
             [
              0,
              "#0d0887"
             ],
             [
              0.1111111111111111,
              "#46039f"
             ],
             [
              0.2222222222222222,
              "#7201a8"
             ],
             [
              0.3333333333333333,
              "#9c179e"
             ],
             [
              0.4444444444444444,
              "#bd3786"
             ],
             [
              0.5555555555555556,
              "#d8576b"
             ],
             [
              0.6666666666666666,
              "#ed7953"
             ],
             [
              0.7777777777777778,
              "#fb9f3a"
             ],
             [
              0.8888888888888888,
              "#fdca26"
             ],
             [
              1,
              "#f0f921"
             ]
            ],
            "type": "histogram2dcontour"
           }
          ],
          "mesh3d": [
           {
            "colorbar": {
             "outlinewidth": 0,
             "ticks": ""
            },
            "type": "mesh3d"
           }
          ],
          "parcoords": [
           {
            "line": {
             "colorbar": {
              "outlinewidth": 0,
              "ticks": ""
             }
            },
            "type": "parcoords"
           }
          ],
          "pie": [
           {
            "automargin": true,
            "type": "pie"
           }
          ],
          "scatter": [
           {
            "fillpattern": {
             "fillmode": "overlay",
             "size": 10,
             "solidity": 0.2
            },
            "marker": {
             "opacity": 0.8
            },
            "type": "scatter"
           }
          ],
          "scatter3d": [
           {
            "line": {
             "colorbar": {
              "outlinewidth": 0,
              "ticks": ""
             }
            },
            "marker": {
             "colorbar": {
              "outlinewidth": 0,
              "ticks": ""
             },
             "opacity": 0.8
            },
            "type": "scatter3d"
           }
          ],
          "scattercarpet": [
           {
            "marker": {
             "colorbar": {
              "outlinewidth": 0,
              "ticks": ""
             }
            },
            "type": "scattercarpet"
           }
          ],
          "scattergeo": [
           {
            "marker": {
             "colorbar": {
              "outlinewidth": 0,
              "ticks": ""
             }
            },
            "type": "scattergeo"
           }
          ],
          "scattergl": [
           {
            "marker": {
             "colorbar": {
              "outlinewidth": 0,
              "ticks": ""
             }
            },
            "type": "scattergl"
           }
          ],
          "scattermapbox": [
           {
            "marker": {
             "colorbar": {
              "outlinewidth": 0,
              "ticks": ""
             }
            },
            "type": "scattermapbox"
           }
          ],
          "scatterpolar": [
           {
            "marker": {
             "colorbar": {
              "outlinewidth": 0,
              "ticks": ""
             }
            },
            "type": "scatterpolar"
           }
          ],
          "scatterpolargl": [
           {
            "marker": {
             "colorbar": {
              "outlinewidth": 0,
              "ticks": ""
             }
            },
            "type": "scatterpolargl"
           }
          ],
          "scatterternary": [
           {
            "marker": {
             "colorbar": {
              "outlinewidth": 0,
              "ticks": ""
             }
            },
            "type": "scatterternary"
           }
          ],
          "surface": [
           {
            "colorbar": {
             "outlinewidth": 0,
             "ticks": ""
            },
            "colorscale": [
             [
              0,
              "#0d0887"
             ],
             [
              0.1111111111111111,
              "#46039f"
             ],
             [
              0.2222222222222222,
              "#7201a8"
             ],
             [
              0.3333333333333333,
              "#9c179e"
             ],
             [
              0.4444444444444444,
              "#bd3786"
             ],
             [
              0.5555555555555556,
              "#d8576b"
             ],
             [
              0.6666666666666666,
              "#ed7953"
             ],
             [
              0.7777777777777778,
              "#fb9f3a"
             ],
             [
              0.8888888888888888,
              "#fdca26"
             ],
             [
              1,
              "#f0f921"
             ]
            ],
            "type": "surface"
           }
          ],
          "table": [
           {
            "cells": {
             "fill": {
              "color": "#EBF0F8"
             },
             "line": {
              "color": "white"
             }
            },
            "header": {
             "fill": {
              "color": "#C8D4E3"
             },
             "line": {
              "color": "white"
             }
            },
            "type": "table"
           }
          ]
         },
         "layout": {
          "annotationdefaults": {
           "arrowcolor": "#2a3f5f",
           "arrowhead": 0,
           "arrowwidth": 1
          },
          "autotypenumbers": "strict",
          "coloraxis": {
           "colorbar": {
            "outlinewidth": 0,
            "ticks": ""
           }
          },
          "colorscale": {
           "diverging": [
            [
             0,
             "#8e0152"
            ],
            [
             0.1,
             "#c51b7d"
            ],
            [
             0.2,
             "#de77ae"
            ],
            [
             0.3,
             "#f1b6da"
            ],
            [
             0.4,
             "#fde0ef"
            ],
            [
             0.5,
             "#f7f7f7"
            ],
            [
             0.6,
             "#e6f5d0"
            ],
            [
             0.7,
             "#b8e186"
            ],
            [
             0.8,
             "#7fbc41"
            ],
            [
             0.9,
             "#4d9221"
            ],
            [
             1,
             "#276419"
            ]
           ],
           "sequential": [
            [
             0,
             "#0d0887"
            ],
            [
             0.1111111111111111,
             "#46039f"
            ],
            [
             0.2222222222222222,
             "#7201a8"
            ],
            [
             0.3333333333333333,
             "#9c179e"
            ],
            [
             0.4444444444444444,
             "#bd3786"
            ],
            [
             0.5555555555555556,
             "#d8576b"
            ],
            [
             0.6666666666666666,
             "#ed7953"
            ],
            [
             0.7777777777777778,
             "#fb9f3a"
            ],
            [
             0.8888888888888888,
             "#fdca26"
            ],
            [
             1,
             "#f0f921"
            ]
           ],
           "sequentialminus": [
            [
             0,
             "#0d0887"
            ],
            [
             0.1111111111111111,
             "#46039f"
            ],
            [
             0.2222222222222222,
             "#7201a8"
            ],
            [
             0.3333333333333333,
             "#9c179e"
            ],
            [
             0.4444444444444444,
             "#bd3786"
            ],
            [
             0.5555555555555556,
             "#d8576b"
            ],
            [
             0.6666666666666666,
             "#ed7953"
            ],
            [
             0.7777777777777778,
             "#fb9f3a"
            ],
            [
             0.8888888888888888,
             "#fdca26"
            ],
            [
             1,
             "#f0f921"
            ]
           ]
          },
          "colorway": [
           "#636efa",
           "#EF553B",
           "#00cc96",
           "#ab63fa",
           "#FFA15A",
           "#19d3f3",
           "#FF6692",
           "#B6E880",
           "#FF97FF",
           "#FECB52"
          ],
          "font": {
           "color": "#2a3f5f"
          },
          "geo": {
           "bgcolor": "white",
           "lakecolor": "white",
           "landcolor": "white",
           "showlakes": true,
           "showland": true,
           "subunitcolor": "#C8D4E3"
          },
          "height": 400,
          "hoverlabel": {
           "align": "left"
          },
          "hovermode": "closest",
          "mapbox": {
           "style": "light"
          },
          "margin": {
           "b": 2,
           "l": 2,
           "r": 2,
           "t": 30
          },
          "paper_bgcolor": "white",
          "plot_bgcolor": "white",
          "polar": {
           "angularaxis": {
            "gridcolor": "#EBF0F8",
            "linecolor": "#EBF0F8",
            "ticks": ""
           },
           "bgcolor": "white",
           "radialaxis": {
            "gridcolor": "#EBF0F8",
            "linecolor": "#EBF0F8",
            "ticks": ""
           }
          },
          "scene": {
           "camera": {
            "eye": {
             "x": 1.5,
             "y": 1.5,
             "z": 0.1
            }
           },
           "xaxis": {
            "backgroundcolor": "white",
            "gridcolor": "#DFE8F3",
            "gridwidth": 2,
            "linecolor": "#EBF0F8",
            "showbackground": true,
            "ticks": "",
            "zerolinecolor": "#EBF0F8"
           },
           "yaxis": {
            "backgroundcolor": "white",
            "gridcolor": "#DFE8F3",
            "gridwidth": 2,
            "linecolor": "#EBF0F8",
            "showbackground": true,
            "ticks": "",
            "zerolinecolor": "#EBF0F8"
           },
           "zaxis": {
            "backgroundcolor": "white",
            "gridcolor": "#DFE8F3",
            "gridwidth": 2,
            "linecolor": "#EBF0F8",
            "showbackground": true,
            "ticks": "",
            "zerolinecolor": "#EBF0F8"
           }
          },
          "shapedefaults": {
           "line": {
            "color": "#2a3f5f"
           }
          },
          "ternary": {
           "aaxis": {
            "gridcolor": "#DFE8F3",
            "linecolor": "#A2B1C6",
            "ticks": ""
           },
           "baxis": {
            "gridcolor": "#DFE8F3",
            "linecolor": "#A2B1C6",
            "ticks": ""
           },
           "bgcolor": "white",
           "caxis": {
            "gridcolor": "#DFE8F3",
            "linecolor": "#A2B1C6",
            "ticks": ""
           }
          },
          "title": {
           "x": 0.5
          },
          "xaxis": {
           "automargin": true,
           "gridcolor": "#EBF0F8",
           "linecolor": "#EBF0F8",
           "linewidth": 2,
           "showline": true,
           "ticks": "",
           "title": {
            "standoff": 15
           },
           "zerolinecolor": "#EBF0F8",
           "zerolinewidth": 2
          },
          "yaxis": {
           "automargin": true,
           "gridcolor": "#EBF0F8",
           "linecolor": "#EBF0F8",
           "linewidth": 2,
           "showline": true,
           "ticks": "",
           "title": {
            "standoff": 15
           },
           "zerolinecolor": "#EBF0F8",
           "zerolinewidth": 2
          }
         }
        },
        "xaxis": {
         "anchor": "y",
         "domain": [
          0,
          1
         ],
         "title": {
          "text": "weight last year"
         }
        },
        "yaxis": {
         "anchor": "x",
         "domain": [
          0,
          1
         ],
         "title": {
          "text": "rescues last year"
         }
        }
       }
      }
     },
     "metadata": {},
     "output_type": "display_data"
    }
   ],
   "source": [
    "graphing.scatter_2D(test, \"weight_last_year\", \"rescues_last_year\", trendline = lambda x: model.params[1] * x + model.params[0])"
   ]
  },
  {
   "attachments": {},
   "cell_type": "markdown",
   "metadata": {},
   "source": [
    "Let's have a look at the MSE again."
   ]
  },
  {
   "cell_type": "code",
   "execution_count": 15,
   "metadata": {},
   "outputs": [
    {
     "name": "stdout",
     "output_type": "stream",
     "text": [
      "MSE = 24.453660 \n"
     ]
    }
   ],
   "source": [
    "correct_labels = test['rescues_last_year']\n",
    "predicted = model.predict(test['weight_last_year'])\n",
    "\n",
    "MSE = mse(correct_labels, predicted)\n",
    "print('MSE = %f ' % MSE)"
   ]
  },
  {
   "attachments": {},
   "cell_type": "markdown",
   "metadata": {},
   "source": [
    "We can see that the model performs much better on the known _training data_ than on the unseen _test data_ (remember that higher MSE values are worse).  \n",
    "\n",
    "This can be down to a number of factors but first and foremost is _overfitting_, which is when a model matches the data in the _training set_ too closely. This means that it will perform very well on the _training set_, but will not _generalize_ well. (i.e., work well with other datasets)."
   ]
  },
  {
   "attachments": {},
   "cell_type": "markdown",
   "metadata": {},
   "source": [
    "# New Dataset\n",
    "\n",
    "To illustrate our point further, let's have a look at how our model performs when confronted with a completely new, unseen, and larger dataset. For our scenario, we'll use data provided by the avalanche rescue charity's European branch."
   ]
  },
  {
   "cell_type": "code",
   "execution_count": 17,
   "metadata": {},
   "outputs": [
    {
     "ename": "FileNotFoundError",
     "evalue": "[Errno 2] No such file or directory: 'dog-training-switzerland.csv'",
     "output_type": "error",
     "traceback": [
      "\u001b[0;31m---------------------------------------------------------------------------\u001b[0m",
      "\u001b[0;31mFileNotFoundError\u001b[0m                         Traceback (most recent call last)",
      "Cell \u001b[0;32mIn[17], line 2\u001b[0m\n\u001b[1;32m      1\u001b[0m \u001b[39m# Load an alternative dataset from the charity's European branch\u001b[39;00m\n\u001b[0;32m----> 2\u001b[0m new_data \u001b[39m=\u001b[39m pandas\u001b[39m.\u001b[39;49mread_csv(\u001b[39m\"\u001b[39;49m\u001b[39mdog-training-switzerland.csv\u001b[39;49m\u001b[39m\"\u001b[39;49m, delimiter\u001b[39m=\u001b[39;49m\u001b[39m\"\u001b[39;49m\u001b[39m\\t\u001b[39;49;00m\u001b[39m\"\u001b[39;49m)\n\u001b[1;32m      4\u001b[0m \u001b[39mprint\u001b[39m(new_data\u001b[39m.\u001b[39mshape)\n\u001b[1;32m      5\u001b[0m new_data\u001b[39m.\u001b[39mhead()\n",
      "File \u001b[0;32m~/Desktop/DEV/PythonChallenges/venv/lib/python3.11/site-packages/pandas/util/_decorators.py:211\u001b[0m, in \u001b[0;36mdeprecate_kwarg.<locals>._deprecate_kwarg.<locals>.wrapper\u001b[0;34m(*args, **kwargs)\u001b[0m\n\u001b[1;32m    209\u001b[0m     \u001b[39melse\u001b[39;00m:\n\u001b[1;32m    210\u001b[0m         kwargs[new_arg_name] \u001b[39m=\u001b[39m new_arg_value\n\u001b[0;32m--> 211\u001b[0m \u001b[39mreturn\u001b[39;00m func(\u001b[39m*\u001b[39;49margs, \u001b[39m*\u001b[39;49m\u001b[39m*\u001b[39;49mkwargs)\n",
      "File \u001b[0;32m~/Desktop/DEV/PythonChallenges/venv/lib/python3.11/site-packages/pandas/util/_decorators.py:331\u001b[0m, in \u001b[0;36mdeprecate_nonkeyword_arguments.<locals>.decorate.<locals>.wrapper\u001b[0;34m(*args, **kwargs)\u001b[0m\n\u001b[1;32m    325\u001b[0m \u001b[39mif\u001b[39;00m \u001b[39mlen\u001b[39m(args) \u001b[39m>\u001b[39m num_allow_args:\n\u001b[1;32m    326\u001b[0m     warnings\u001b[39m.\u001b[39mwarn(\n\u001b[1;32m    327\u001b[0m         msg\u001b[39m.\u001b[39mformat(arguments\u001b[39m=\u001b[39m_format_argument_list(allow_args)),\n\u001b[1;32m    328\u001b[0m         \u001b[39mFutureWarning\u001b[39;00m,\n\u001b[1;32m    329\u001b[0m         stacklevel\u001b[39m=\u001b[39mfind_stack_level(),\n\u001b[1;32m    330\u001b[0m     )\n\u001b[0;32m--> 331\u001b[0m \u001b[39mreturn\u001b[39;00m func(\u001b[39m*\u001b[39;49margs, \u001b[39m*\u001b[39;49m\u001b[39m*\u001b[39;49mkwargs)\n",
      "File \u001b[0;32m~/Desktop/DEV/PythonChallenges/venv/lib/python3.11/site-packages/pandas/io/parsers/readers.py:950\u001b[0m, in \u001b[0;36mread_csv\u001b[0;34m(filepath_or_buffer, sep, delimiter, header, names, index_col, usecols, squeeze, prefix, mangle_dupe_cols, dtype, engine, converters, true_values, false_values, skipinitialspace, skiprows, skipfooter, nrows, na_values, keep_default_na, na_filter, verbose, skip_blank_lines, parse_dates, infer_datetime_format, keep_date_col, date_parser, dayfirst, cache_dates, iterator, chunksize, compression, thousands, decimal, lineterminator, quotechar, quoting, doublequote, escapechar, comment, encoding, encoding_errors, dialect, error_bad_lines, warn_bad_lines, on_bad_lines, delim_whitespace, low_memory, memory_map, float_precision, storage_options)\u001b[0m\n\u001b[1;32m    935\u001b[0m kwds_defaults \u001b[39m=\u001b[39m _refine_defaults_read(\n\u001b[1;32m    936\u001b[0m     dialect,\n\u001b[1;32m    937\u001b[0m     delimiter,\n\u001b[0;32m   (...)\u001b[0m\n\u001b[1;32m    946\u001b[0m     defaults\u001b[39m=\u001b[39m{\u001b[39m\"\u001b[39m\u001b[39mdelimiter\u001b[39m\u001b[39m\"\u001b[39m: \u001b[39m\"\u001b[39m\u001b[39m,\u001b[39m\u001b[39m\"\u001b[39m},\n\u001b[1;32m    947\u001b[0m )\n\u001b[1;32m    948\u001b[0m kwds\u001b[39m.\u001b[39mupdate(kwds_defaults)\n\u001b[0;32m--> 950\u001b[0m \u001b[39mreturn\u001b[39;00m _read(filepath_or_buffer, kwds)\n",
      "File \u001b[0;32m~/Desktop/DEV/PythonChallenges/venv/lib/python3.11/site-packages/pandas/io/parsers/readers.py:605\u001b[0m, in \u001b[0;36m_read\u001b[0;34m(filepath_or_buffer, kwds)\u001b[0m\n\u001b[1;32m    602\u001b[0m _validate_names(kwds\u001b[39m.\u001b[39mget(\u001b[39m\"\u001b[39m\u001b[39mnames\u001b[39m\u001b[39m\"\u001b[39m, \u001b[39mNone\u001b[39;00m))\n\u001b[1;32m    604\u001b[0m \u001b[39m# Create the parser.\u001b[39;00m\n\u001b[0;32m--> 605\u001b[0m parser \u001b[39m=\u001b[39m TextFileReader(filepath_or_buffer, \u001b[39m*\u001b[39;49m\u001b[39m*\u001b[39;49mkwds)\n\u001b[1;32m    607\u001b[0m \u001b[39mif\u001b[39;00m chunksize \u001b[39mor\u001b[39;00m iterator:\n\u001b[1;32m    608\u001b[0m     \u001b[39mreturn\u001b[39;00m parser\n",
      "File \u001b[0;32m~/Desktop/DEV/PythonChallenges/venv/lib/python3.11/site-packages/pandas/io/parsers/readers.py:1442\u001b[0m, in \u001b[0;36mTextFileReader.__init__\u001b[0;34m(self, f, engine, **kwds)\u001b[0m\n\u001b[1;32m   1439\u001b[0m     \u001b[39mself\u001b[39m\u001b[39m.\u001b[39moptions[\u001b[39m\"\u001b[39m\u001b[39mhas_index_names\u001b[39m\u001b[39m\"\u001b[39m] \u001b[39m=\u001b[39m kwds[\u001b[39m\"\u001b[39m\u001b[39mhas_index_names\u001b[39m\u001b[39m\"\u001b[39m]\n\u001b[1;32m   1441\u001b[0m \u001b[39mself\u001b[39m\u001b[39m.\u001b[39mhandles: IOHandles \u001b[39m|\u001b[39m \u001b[39mNone\u001b[39;00m \u001b[39m=\u001b[39m \u001b[39mNone\u001b[39;00m\n\u001b[0;32m-> 1442\u001b[0m \u001b[39mself\u001b[39m\u001b[39m.\u001b[39m_engine \u001b[39m=\u001b[39m \u001b[39mself\u001b[39;49m\u001b[39m.\u001b[39;49m_make_engine(f, \u001b[39mself\u001b[39;49m\u001b[39m.\u001b[39;49mengine)\n",
      "File \u001b[0;32m~/Desktop/DEV/PythonChallenges/venv/lib/python3.11/site-packages/pandas/io/parsers/readers.py:1735\u001b[0m, in \u001b[0;36mTextFileReader._make_engine\u001b[0;34m(self, f, engine)\u001b[0m\n\u001b[1;32m   1733\u001b[0m     \u001b[39mif\u001b[39;00m \u001b[39m\"\u001b[39m\u001b[39mb\u001b[39m\u001b[39m\"\u001b[39m \u001b[39mnot\u001b[39;00m \u001b[39min\u001b[39;00m mode:\n\u001b[1;32m   1734\u001b[0m         mode \u001b[39m+\u001b[39m\u001b[39m=\u001b[39m \u001b[39m\"\u001b[39m\u001b[39mb\u001b[39m\u001b[39m\"\u001b[39m\n\u001b[0;32m-> 1735\u001b[0m \u001b[39mself\u001b[39m\u001b[39m.\u001b[39mhandles \u001b[39m=\u001b[39m get_handle(\n\u001b[1;32m   1736\u001b[0m     f,\n\u001b[1;32m   1737\u001b[0m     mode,\n\u001b[1;32m   1738\u001b[0m     encoding\u001b[39m=\u001b[39;49m\u001b[39mself\u001b[39;49m\u001b[39m.\u001b[39;49moptions\u001b[39m.\u001b[39;49mget(\u001b[39m\"\u001b[39;49m\u001b[39mencoding\u001b[39;49m\u001b[39m\"\u001b[39;49m, \u001b[39mNone\u001b[39;49;00m),\n\u001b[1;32m   1739\u001b[0m     compression\u001b[39m=\u001b[39;49m\u001b[39mself\u001b[39;49m\u001b[39m.\u001b[39;49moptions\u001b[39m.\u001b[39;49mget(\u001b[39m\"\u001b[39;49m\u001b[39mcompression\u001b[39;49m\u001b[39m\"\u001b[39;49m, \u001b[39mNone\u001b[39;49;00m),\n\u001b[1;32m   1740\u001b[0m     memory_map\u001b[39m=\u001b[39;49m\u001b[39mself\u001b[39;49m\u001b[39m.\u001b[39;49moptions\u001b[39m.\u001b[39;49mget(\u001b[39m\"\u001b[39;49m\u001b[39mmemory_map\u001b[39;49m\u001b[39m\"\u001b[39;49m, \u001b[39mFalse\u001b[39;49;00m),\n\u001b[1;32m   1741\u001b[0m     is_text\u001b[39m=\u001b[39;49mis_text,\n\u001b[1;32m   1742\u001b[0m     errors\u001b[39m=\u001b[39;49m\u001b[39mself\u001b[39;49m\u001b[39m.\u001b[39;49moptions\u001b[39m.\u001b[39;49mget(\u001b[39m\"\u001b[39;49m\u001b[39mencoding_errors\u001b[39;49m\u001b[39m\"\u001b[39;49m, \u001b[39m\"\u001b[39;49m\u001b[39mstrict\u001b[39;49m\u001b[39m\"\u001b[39;49m),\n\u001b[1;32m   1743\u001b[0m     storage_options\u001b[39m=\u001b[39;49m\u001b[39mself\u001b[39;49m\u001b[39m.\u001b[39;49moptions\u001b[39m.\u001b[39;49mget(\u001b[39m\"\u001b[39;49m\u001b[39mstorage_options\u001b[39;49m\u001b[39m\"\u001b[39;49m, \u001b[39mNone\u001b[39;49;00m),\n\u001b[1;32m   1744\u001b[0m )\n\u001b[1;32m   1745\u001b[0m \u001b[39massert\u001b[39;00m \u001b[39mself\u001b[39m\u001b[39m.\u001b[39mhandles \u001b[39mis\u001b[39;00m \u001b[39mnot\u001b[39;00m \u001b[39mNone\u001b[39;00m\n\u001b[1;32m   1746\u001b[0m f \u001b[39m=\u001b[39m \u001b[39mself\u001b[39m\u001b[39m.\u001b[39mhandles\u001b[39m.\u001b[39mhandle\n",
      "File \u001b[0;32m~/Desktop/DEV/PythonChallenges/venv/lib/python3.11/site-packages/pandas/io/common.py:856\u001b[0m, in \u001b[0;36mget_handle\u001b[0;34m(path_or_buf, mode, encoding, compression, memory_map, is_text, errors, storage_options)\u001b[0m\n\u001b[1;32m    851\u001b[0m \u001b[39melif\u001b[39;00m \u001b[39misinstance\u001b[39m(handle, \u001b[39mstr\u001b[39m):\n\u001b[1;32m    852\u001b[0m     \u001b[39m# Check whether the filename is to be opened in binary mode.\u001b[39;00m\n\u001b[1;32m    853\u001b[0m     \u001b[39m# Binary mode does not support 'encoding' and 'newline'.\u001b[39;00m\n\u001b[1;32m    854\u001b[0m     \u001b[39mif\u001b[39;00m ioargs\u001b[39m.\u001b[39mencoding \u001b[39mand\u001b[39;00m \u001b[39m\"\u001b[39m\u001b[39mb\u001b[39m\u001b[39m\"\u001b[39m \u001b[39mnot\u001b[39;00m \u001b[39min\u001b[39;00m ioargs\u001b[39m.\u001b[39mmode:\n\u001b[1;32m    855\u001b[0m         \u001b[39m# Encoding\u001b[39;00m\n\u001b[0;32m--> 856\u001b[0m         handle \u001b[39m=\u001b[39m \u001b[39mopen\u001b[39;49m(\n\u001b[1;32m    857\u001b[0m             handle,\n\u001b[1;32m    858\u001b[0m             ioargs\u001b[39m.\u001b[39;49mmode,\n\u001b[1;32m    859\u001b[0m             encoding\u001b[39m=\u001b[39;49mioargs\u001b[39m.\u001b[39;49mencoding,\n\u001b[1;32m    860\u001b[0m             errors\u001b[39m=\u001b[39;49merrors,\n\u001b[1;32m    861\u001b[0m             newline\u001b[39m=\u001b[39;49m\u001b[39m\"\u001b[39;49m\u001b[39m\"\u001b[39;49m,\n\u001b[1;32m    862\u001b[0m         )\n\u001b[1;32m    863\u001b[0m     \u001b[39melse\u001b[39;00m:\n\u001b[1;32m    864\u001b[0m         \u001b[39m# Binary mode\u001b[39;00m\n\u001b[1;32m    865\u001b[0m         handle \u001b[39m=\u001b[39m \u001b[39mopen\u001b[39m(handle, ioargs\u001b[39m.\u001b[39mmode)\n",
      "\u001b[0;31mFileNotFoundError\u001b[0m: [Errno 2] No such file or directory: 'dog-training-switzerland.csv'"
     ]
    }
   ],
   "source": [
    "# Load an alternative dataset from the charity's European branch\n",
    "new_data = pandas.read_csv(\"dog-training-switzerland.csv\", delimiter=\"\\t\")\n",
    "\n",
    "print(new_data.shape)\n",
    "new_data.head()\n"
   ]
  },
  {
   "attachments": {},
   "cell_type": "markdown",
   "metadata": {},
   "source": [
    "The features are the same, but we have much more data this time. Let's see how our model does!"
   ]
  },
  {
   "cell_type": "code",
   "execution_count": 18,
   "metadata": {},
   "outputs": [
    {
     "ename": "NameError",
     "evalue": "name 'new_data' is not defined",
     "output_type": "error",
     "traceback": [
      "\u001b[0;31m---------------------------------------------------------------------------\u001b[0m",
      "\u001b[0;31mNameError\u001b[0m                                 Traceback (most recent call last)",
      "Cell \u001b[0;32mIn[18], line 3\u001b[0m\n\u001b[1;32m      1\u001b[0m \u001b[39m# Plot the fitted model against this new dataset. \u001b[39;00m\n\u001b[0;32m----> 3\u001b[0m graphing\u001b[39m.\u001b[39mscatter_2D(new_data, \u001b[39m\"\u001b[39m\u001b[39mweight_last_year\u001b[39m\u001b[39m\"\u001b[39m, \u001b[39m\"\u001b[39m\u001b[39mrescues_last_year\u001b[39m\u001b[39m\"\u001b[39m, trendline \u001b[39m=\u001b[39m \u001b[39mlambda\u001b[39;00m x: model\u001b[39m.\u001b[39mparams[\u001b[39m1\u001b[39m] \u001b[39m*\u001b[39m x \u001b[39m+\u001b[39m model\u001b[39m.\u001b[39mparams[\u001b[39m0\u001b[39m])\n",
      "\u001b[0;31mNameError\u001b[0m: name 'new_data' is not defined"
     ]
    }
   ],
   "source": [
    "# Plot the fitted model against this new dataset. \n",
    "\n",
    "graphing.scatter_2D(new_data, \"weight_last_year\", \"rescues_last_year\", trendline = lambda x: model.params[1] * x + model.params[0])"
   ]
  },
  {
   "cell_type": "code",
   "execution_count": 19,
   "metadata": {},
   "outputs": [
    {
     "ename": "NameError",
     "evalue": "name 'new_data' is not defined",
     "output_type": "error",
     "traceback": [
      "\u001b[0;31m---------------------------------------------------------------------------\u001b[0m",
      "\u001b[0;31mNameError\u001b[0m                                 Traceback (most recent call last)",
      "Cell \u001b[0;32mIn[19], line 1\u001b[0m\n\u001b[0;32m----> 1\u001b[0m correct_labels \u001b[39m=\u001b[39m new_data[\u001b[39m'\u001b[39m\u001b[39mrescues_last_year\u001b[39m\u001b[39m'\u001b[39m]\n\u001b[1;32m      2\u001b[0m predicted \u001b[39m=\u001b[39m model\u001b[39m.\u001b[39mpredict(new_data[\u001b[39m'\u001b[39m\u001b[39mweight_last_year\u001b[39m\u001b[39m'\u001b[39m])\n\u001b[1;32m      4\u001b[0m MSE \u001b[39m=\u001b[39m mse(correct_labels, predicted)\n",
      "\u001b[0;31mNameError\u001b[0m: name 'new_data' is not defined"
     ]
    }
   ],
   "source": [
    "correct_labels = new_data['rescues_last_year']\n",
    "predicted = model.predict(new_data['weight_last_year'])\n",
    "\n",
    "MSE = mse(correct_labels, predicted)\n",
    "print('MSE = %f ' % MSE)"
   ]
  }
 ],
 "metadata": {
  "kernelspec": {
   "display_name": "venv",
   "language": "python",
   "name": "python3"
  },
  "language_info": {
   "codemirror_mode": {
    "name": "ipython",
    "version": 3
   },
   "file_extension": ".py",
   "mimetype": "text/x-python",
   "name": "python",
   "nbconvert_exporter": "python",
   "pygments_lexer": "ipython3",
   "version": "3.11.0"
  },
  "orig_nbformat": 4
 },
 "nbformat": 4,
 "nbformat_minor": 2
}
